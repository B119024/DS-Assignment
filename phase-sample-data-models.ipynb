{
 "cells": [
  {
   "cell_type": "code",
   "execution_count": 1,
   "id": "845dbd20",
   "metadata": {
    "_cell_guid": "b1076dfc-b9ad-4769-8c92-a6c4dae69d19",
    "_uuid": "8f2839f25d086af736a60e9eeb907d3b93b6e0e5",
    "execution": {
     "iopub.execute_input": "2023-03-08T06:52:27.927572Z",
     "iopub.status.busy": "2023-03-08T06:52:27.927126Z",
     "iopub.status.idle": "2023-03-08T06:52:27.946711Z",
     "shell.execute_reply": "2023-03-08T06:52:27.945077Z"
    },
    "papermill": {
     "duration": 0.031873,
     "end_time": "2023-03-08T06:52:27.949332",
     "exception": false,
     "start_time": "2023-03-08T06:52:27.917459",
     "status": "completed"
    },
    "tags": []
   },
   "outputs": [
    {
     "name": "stdout",
     "output_type": "stream",
     "text": [
      "/kaggle/input/sample-data/phase_data_sample.csv\n"
     ]
    }
   ],
   "source": [
    "# This Python 3 environment comes with many helpful analytics libraries installed\n",
    "# It is defined by the kaggle/python Docker image: https://github.com/kaggle/docker-python\n",
    "# For example, here's several helpful packages to load\n",
    "\n",
    "import numpy as np # linear algebra\n",
    "import pandas as pd # data processing, CSV file I/O (e.g. pd.read_csv)\n",
    "\n",
    "# Input data files are available in the read-only \"../input/\" directory\n",
    "# For example, running this (by clicking run or pressing Shift+Enter) will list all files under the input directory\n",
    "\n",
    "import os\n",
    "for dirname, _, filenames in os.walk('/kaggle/input'):\n",
    "    for filename in filenames:\n",
    "        print(os.path.join(dirname, filename))\n",
    "\n",
    "# You can write up to 20GB to the current directory (/kaggle/working/) that gets preserved as output when you create a version using \"Save & Run All\" \n",
    "# You can also write temporary files to /kaggle/temp/, but they won't be saved outside of the current session"
   ]
  },
  {
   "cell_type": "markdown",
   "id": "f0a442ae",
   "metadata": {
    "papermill": {
     "duration": 0.006481,
     "end_time": "2023-03-08T06:52:27.963522",
     "exception": false,
     "start_time": "2023-03-08T06:52:27.957041",
     "status": "completed"
    },
    "tags": []
   },
   "source": [
    "***Reading the data using Pandas***"
   ]
  },
  {
   "cell_type": "code",
   "execution_count": 2,
   "id": "c34beb38",
   "metadata": {
    "execution": {
     "iopub.execute_input": "2023-03-08T06:52:27.979033Z",
     "iopub.status.busy": "2023-03-08T06:52:27.978634Z",
     "iopub.status.idle": "2023-03-08T06:52:29.133500Z",
     "shell.execute_reply": "2023-03-08T06:52:29.131654Z"
    },
    "papermill": {
     "duration": 1.166193,
     "end_time": "2023-03-08T06:52:29.136522",
     "exception": false,
     "start_time": "2023-03-08T06:52:27.970329",
     "status": "completed"
    },
    "tags": []
   },
   "outputs": [],
   "source": [
    "df = pd.read_csv('/kaggle/input/sample-data/phase_data_sample.csv',index_col=None)"
   ]
  },
  {
   "cell_type": "code",
   "execution_count": 3,
   "id": "d809e86a",
   "metadata": {
    "execution": {
     "iopub.execute_input": "2023-03-08T06:52:29.152475Z",
     "iopub.status.busy": "2023-03-08T06:52:29.152124Z",
     "iopub.status.idle": "2023-03-08T06:52:29.204414Z",
     "shell.execute_reply": "2023-03-08T06:52:29.202863Z"
    },
    "papermill": {
     "duration": 0.06357,
     "end_time": "2023-03-08T06:52:29.207348",
     "exception": false,
     "start_time": "2023-03-08T06:52:29.143778",
     "status": "completed"
    },
    "tags": []
   },
   "outputs": [
    {
     "data": {
      "text/html": [
       "<div>\n",
       "<style scoped>\n",
       "    .dataframe tbody tr th:only-of-type {\n",
       "        vertical-align: middle;\n",
       "    }\n",
       "\n",
       "    .dataframe tbody tr th {\n",
       "        vertical-align: top;\n",
       "    }\n",
       "\n",
       "    .dataframe thead th {\n",
       "        text-align: right;\n",
       "    }\n",
       "</style>\n",
       "<table border=\"1\" class=\"dataframe\">\n",
       "  <thead>\n",
       "    <tr style=\"text-align: right;\">\n",
       "      <th></th>\n",
       "      <th>0</th>\n",
       "      <th>1</th>\n",
       "      <th>2</th>\n",
       "      <th>3</th>\n",
       "      <th>4</th>\n",
       "      <th>5</th>\n",
       "      <th>6</th>\n",
       "      <th>7</th>\n",
       "      <th>8</th>\n",
       "      <th>9</th>\n",
       "      <th>...</th>\n",
       "      <th>125</th>\n",
       "      <th>126</th>\n",
       "      <th>127</th>\n",
       "      <th>128</th>\n",
       "      <th>129</th>\n",
       "      <th>130</th>\n",
       "      <th>131</th>\n",
       "      <th>132</th>\n",
       "      <th>133</th>\n",
       "      <th>label</th>\n",
       "    </tr>\n",
       "  </thead>\n",
       "  <tbody>\n",
       "    <tr>\n",
       "      <th>0</th>\n",
       "      <td>-2.431423</td>\n",
       "      <td>1.483793</td>\n",
       "      <td>-1.161452</td>\n",
       "      <td>1.791645</td>\n",
       "      <td>0.270695</td>\n",
       "      <td>-0.089481</td>\n",
       "      <td>0.356688</td>\n",
       "      <td>1.632386</td>\n",
       "      <td>-0.572265</td>\n",
       "      <td>0.099085</td>\n",
       "      <td>...</td>\n",
       "      <td>-0.415398</td>\n",
       "      <td>-0.452132</td>\n",
       "      <td>-0.360327</td>\n",
       "      <td>-0.159069</td>\n",
       "      <td>-0.338560</td>\n",
       "      <td>-0.322463</td>\n",
       "      <td>-0.143152</td>\n",
       "      <td>-1.080384</td>\n",
       "      <td>0.538832</td>\n",
       "      <td>0</td>\n",
       "    </tr>\n",
       "    <tr>\n",
       "      <th>1</th>\n",
       "      <td>-2.811765</td>\n",
       "      <td>0.697328</td>\n",
       "      <td>-2.056736</td>\n",
       "      <td>0.978536</td>\n",
       "      <td>-0.911127</td>\n",
       "      <td>-0.973984</td>\n",
       "      <td>-1.916140</td>\n",
       "      <td>0.007252</td>\n",
       "      <td>1.290173</td>\n",
       "      <td>-1.655500</td>\n",
       "      <td>...</td>\n",
       "      <td>-0.415398</td>\n",
       "      <td>-0.215571</td>\n",
       "      <td>0.263873</td>\n",
       "      <td>-0.159069</td>\n",
       "      <td>-0.338560</td>\n",
       "      <td>-0.322463</td>\n",
       "      <td>-0.143152</td>\n",
       "      <td>-0.973158</td>\n",
       "      <td>0.538832</td>\n",
       "      <td>1</td>\n",
       "    </tr>\n",
       "    <tr>\n",
       "      <th>2</th>\n",
       "      <td>-0.103309</td>\n",
       "      <td>-0.413561</td>\n",
       "      <td>0.030206</td>\n",
       "      <td>-0.230614</td>\n",
       "      <td>-0.200565</td>\n",
       "      <td>-0.235467</td>\n",
       "      <td>0.078330</td>\n",
       "      <td>0.601497</td>\n",
       "      <td>0.102205</td>\n",
       "      <td>0.044518</td>\n",
       "      <td>...</td>\n",
       "      <td>-0.415398</td>\n",
       "      <td>0.115614</td>\n",
       "      <td>-0.776461</td>\n",
       "      <td>-0.159069</td>\n",
       "      <td>1.815429</td>\n",
       "      <td>-0.322463</td>\n",
       "      <td>-0.143152</td>\n",
       "      <td>-0.865932</td>\n",
       "      <td>0.538832</td>\n",
       "      <td>8</td>\n",
       "    </tr>\n",
       "    <tr>\n",
       "      <th>3</th>\n",
       "      <td>3.701616</td>\n",
       "      <td>-1.404758</td>\n",
       "      <td>-1.796171</td>\n",
       "      <td>0.263228</td>\n",
       "      <td>0.142206</td>\n",
       "      <td>-0.327979</td>\n",
       "      <td>0.078298</td>\n",
       "      <td>0.339293</td>\n",
       "      <td>-2.803031</td>\n",
       "      <td>0.851896</td>\n",
       "      <td>...</td>\n",
       "      <td>1.510721</td>\n",
       "      <td>0.115614</td>\n",
       "      <td>2.344540</td>\n",
       "      <td>-0.159069</td>\n",
       "      <td>1.456431</td>\n",
       "      <td>-0.322463</td>\n",
       "      <td>-0.143152</td>\n",
       "      <td>-0.758705</td>\n",
       "      <td>0.538832</td>\n",
       "      <td>5</td>\n",
       "    </tr>\n",
       "    <tr>\n",
       "      <th>4</th>\n",
       "      <td>1.598397</td>\n",
       "      <td>-0.165481</td>\n",
       "      <td>1.795930</td>\n",
       "      <td>0.755155</td>\n",
       "      <td>-0.604168</td>\n",
       "      <td>-0.633534</td>\n",
       "      <td>-1.055088</td>\n",
       "      <td>-0.442009</td>\n",
       "      <td>1.344237</td>\n",
       "      <td>-0.536694</td>\n",
       "      <td>...</td>\n",
       "      <td>-0.415398</td>\n",
       "      <td>-0.357508</td>\n",
       "      <td>-0.776461</td>\n",
       "      <td>-0.159069</td>\n",
       "      <td>-0.338560</td>\n",
       "      <td>-0.322463</td>\n",
       "      <td>-0.143152</td>\n",
       "      <td>-0.651479</td>\n",
       "      <td>0.538832</td>\n",
       "      <td>9</td>\n",
       "    </tr>\n",
       "    <tr>\n",
       "      <th>...</th>\n",
       "      <td>...</td>\n",
       "      <td>...</td>\n",
       "      <td>...</td>\n",
       "      <td>...</td>\n",
       "      <td>...</td>\n",
       "      <td>...</td>\n",
       "      <td>...</td>\n",
       "      <td>...</td>\n",
       "      <td>...</td>\n",
       "      <td>...</td>\n",
       "      <td>...</td>\n",
       "      <td>...</td>\n",
       "      <td>...</td>\n",
       "      <td>...</td>\n",
       "      <td>...</td>\n",
       "      <td>...</td>\n",
       "      <td>...</td>\n",
       "      <td>...</td>\n",
       "      <td>...</td>\n",
       "      <td>...</td>\n",
       "      <td>...</td>\n",
       "    </tr>\n",
       "    <tr>\n",
       "      <th>17332</th>\n",
       "      <td>-0.103309</td>\n",
       "      <td>-0.413561</td>\n",
       "      <td>0.030206</td>\n",
       "      <td>-0.230614</td>\n",
       "      <td>-0.200565</td>\n",
       "      <td>-0.235467</td>\n",
       "      <td>0.078330</td>\n",
       "      <td>0.601497</td>\n",
       "      <td>0.102205</td>\n",
       "      <td>0.044518</td>\n",
       "      <td>...</td>\n",
       "      <td>-0.415398</td>\n",
       "      <td>-0.215571</td>\n",
       "      <td>0.471940</td>\n",
       "      <td>-0.159069</td>\n",
       "      <td>-0.338560</td>\n",
       "      <td>-0.322463</td>\n",
       "      <td>-0.143152</td>\n",
       "      <td>0.099106</td>\n",
       "      <td>0.538832</td>\n",
       "      <td>1</td>\n",
       "    </tr>\n",
       "    <tr>\n",
       "      <th>17333</th>\n",
       "      <td>1.913463</td>\n",
       "      <td>-0.928488</td>\n",
       "      <td>-0.449048</td>\n",
       "      <td>-0.094250</td>\n",
       "      <td>-1.940294</td>\n",
       "      <td>0.322556</td>\n",
       "      <td>1.699141</td>\n",
       "      <td>1.075955</td>\n",
       "      <td>0.971536</td>\n",
       "      <td>-0.056004</td>\n",
       "      <td>...</td>\n",
       "      <td>-0.415398</td>\n",
       "      <td>-0.191915</td>\n",
       "      <td>0.263873</td>\n",
       "      <td>-0.159069</td>\n",
       "      <td>-0.338560</td>\n",
       "      <td>-0.322463</td>\n",
       "      <td>-0.143152</td>\n",
       "      <td>0.206332</td>\n",
       "      <td>0.538832</td>\n",
       "      <td>1</td>\n",
       "    </tr>\n",
       "    <tr>\n",
       "      <th>17334</th>\n",
       "      <td>-0.548514</td>\n",
       "      <td>0.277013</td>\n",
       "      <td>-1.669528</td>\n",
       "      <td>-0.860531</td>\n",
       "      <td>1.283522</td>\n",
       "      <td>0.859646</td>\n",
       "      <td>0.774062</td>\n",
       "      <td>-2.221331</td>\n",
       "      <td>-2.683164</td>\n",
       "      <td>1.971993</td>\n",
       "      <td>...</td>\n",
       "      <td>-0.415398</td>\n",
       "      <td>-0.475789</td>\n",
       "      <td>-0.568394</td>\n",
       "      <td>-0.159069</td>\n",
       "      <td>-0.338560</td>\n",
       "      <td>-0.322463</td>\n",
       "      <td>-0.143152</td>\n",
       "      <td>0.313558</td>\n",
       "      <td>0.538832</td>\n",
       "      <td>2</td>\n",
       "    </tr>\n",
       "    <tr>\n",
       "      <th>17335</th>\n",
       "      <td>2.021756</td>\n",
       "      <td>0.121105</td>\n",
       "      <td>0.286161</td>\n",
       "      <td>-0.913391</td>\n",
       "      <td>0.984242</td>\n",
       "      <td>0.491924</td>\n",
       "      <td>-0.900117</td>\n",
       "      <td>-0.062259</td>\n",
       "      <td>0.300681</td>\n",
       "      <td>-0.773981</td>\n",
       "      <td>...</td>\n",
       "      <td>1.510721</td>\n",
       "      <td>5.556521</td>\n",
       "      <td>0.055806</td>\n",
       "      <td>-0.159069</td>\n",
       "      <td>0.379436</td>\n",
       "      <td>-0.322463</td>\n",
       "      <td>-0.143152</td>\n",
       "      <td>0.420785</td>\n",
       "      <td>0.538832</td>\n",
       "      <td>1</td>\n",
       "    </tr>\n",
       "    <tr>\n",
       "      <th>17336</th>\n",
       "      <td>-0.710822</td>\n",
       "      <td>1.288865</td>\n",
       "      <td>0.918858</td>\n",
       "      <td>0.882426</td>\n",
       "      <td>0.851136</td>\n",
       "      <td>0.441219</td>\n",
       "      <td>0.019907</td>\n",
       "      <td>0.283588</td>\n",
       "      <td>-0.840359</td>\n",
       "      <td>-0.469561</td>\n",
       "      <td>...</td>\n",
       "      <td>-0.415398</td>\n",
       "      <td>-0.452132</td>\n",
       "      <td>-0.776461</td>\n",
       "      <td>-0.159069</td>\n",
       "      <td>-0.338560</td>\n",
       "      <td>-0.322463</td>\n",
       "      <td>-0.143152</td>\n",
       "      <td>0.528011</td>\n",
       "      <td>0.538832</td>\n",
       "      <td>0</td>\n",
       "    </tr>\n",
       "  </tbody>\n",
       "</table>\n",
       "<p>17337 rows × 135 columns</p>\n",
       "</div>"
      ],
      "text/plain": [
       "              0         1         2         3         4         5         6  \\\n",
       "0     -2.431423  1.483793 -1.161452  1.791645  0.270695 -0.089481  0.356688   \n",
       "1     -2.811765  0.697328 -2.056736  0.978536 -0.911127 -0.973984 -1.916140   \n",
       "2     -0.103309 -0.413561  0.030206 -0.230614 -0.200565 -0.235467  0.078330   \n",
       "3      3.701616 -1.404758 -1.796171  0.263228  0.142206 -0.327979  0.078298   \n",
       "4      1.598397 -0.165481  1.795930  0.755155 -0.604168 -0.633534 -1.055088   \n",
       "...         ...       ...       ...       ...       ...       ...       ...   \n",
       "17332 -0.103309 -0.413561  0.030206 -0.230614 -0.200565 -0.235467  0.078330   \n",
       "17333  1.913463 -0.928488 -0.449048 -0.094250 -1.940294  0.322556  1.699141   \n",
       "17334 -0.548514  0.277013 -1.669528 -0.860531  1.283522  0.859646  0.774062   \n",
       "17335  2.021756  0.121105  0.286161 -0.913391  0.984242  0.491924 -0.900117   \n",
       "17336 -0.710822  1.288865  0.918858  0.882426  0.851136  0.441219  0.019907   \n",
       "\n",
       "              7         8         9  ...       125       126       127  \\\n",
       "0      1.632386 -0.572265  0.099085  ... -0.415398 -0.452132 -0.360327   \n",
       "1      0.007252  1.290173 -1.655500  ... -0.415398 -0.215571  0.263873   \n",
       "2      0.601497  0.102205  0.044518  ... -0.415398  0.115614 -0.776461   \n",
       "3      0.339293 -2.803031  0.851896  ...  1.510721  0.115614  2.344540   \n",
       "4     -0.442009  1.344237 -0.536694  ... -0.415398 -0.357508 -0.776461   \n",
       "...         ...       ...       ...  ...       ...       ...       ...   \n",
       "17332  0.601497  0.102205  0.044518  ... -0.415398 -0.215571  0.471940   \n",
       "17333  1.075955  0.971536 -0.056004  ... -0.415398 -0.191915  0.263873   \n",
       "17334 -2.221331 -2.683164  1.971993  ... -0.415398 -0.475789 -0.568394   \n",
       "17335 -0.062259  0.300681 -0.773981  ...  1.510721  5.556521  0.055806   \n",
       "17336  0.283588 -0.840359 -0.469561  ... -0.415398 -0.452132 -0.776461   \n",
       "\n",
       "            128       129       130       131       132       133  label  \n",
       "0     -0.159069 -0.338560 -0.322463 -0.143152 -1.080384  0.538832      0  \n",
       "1     -0.159069 -0.338560 -0.322463 -0.143152 -0.973158  0.538832      1  \n",
       "2     -0.159069  1.815429 -0.322463 -0.143152 -0.865932  0.538832      8  \n",
       "3     -0.159069  1.456431 -0.322463 -0.143152 -0.758705  0.538832      5  \n",
       "4     -0.159069 -0.338560 -0.322463 -0.143152 -0.651479  0.538832      9  \n",
       "...         ...       ...       ...       ...       ...       ...    ...  \n",
       "17332 -0.159069 -0.338560 -0.322463 -0.143152  0.099106  0.538832      1  \n",
       "17333 -0.159069 -0.338560 -0.322463 -0.143152  0.206332  0.538832      1  \n",
       "17334 -0.159069 -0.338560 -0.322463 -0.143152  0.313558  0.538832      2  \n",
       "17335 -0.159069  0.379436 -0.322463 -0.143152  0.420785  0.538832      1  \n",
       "17336 -0.159069 -0.338560 -0.322463 -0.143152  0.528011  0.538832      0  \n",
       "\n",
       "[17337 rows x 135 columns]"
      ]
     },
     "execution_count": 3,
     "metadata": {},
     "output_type": "execute_result"
    }
   ],
   "source": [
    "df"
   ]
  },
  {
   "cell_type": "markdown",
   "id": "3f98de05",
   "metadata": {
    "papermill": {
     "duration": 0.007442,
     "end_time": "2023-03-08T06:52:29.223022",
     "exception": false,
     "start_time": "2023-03-08T06:52:29.215580",
     "status": "completed"
    },
    "tags": []
   },
   "source": [
    "***Preprocessing the data Using Standardization method***"
   ]
  },
  {
   "cell_type": "code",
   "execution_count": 4,
   "id": "abafa68a",
   "metadata": {
    "execution": {
     "iopub.execute_input": "2023-03-08T06:52:29.240141Z",
     "iopub.status.busy": "2023-03-08T06:52:29.239756Z",
     "iopub.status.idle": "2023-03-08T06:52:30.333116Z",
     "shell.execute_reply": "2023-03-08T06:52:30.331262Z"
    },
    "papermill": {
     "duration": 1.105207,
     "end_time": "2023-03-08T06:52:30.335840",
     "exception": false,
     "start_time": "2023-03-08T06:52:29.230633",
     "status": "completed"
    },
    "tags": []
   },
   "outputs": [],
   "source": [
    "from sklearn.preprocessing import StandardScaler\n",
    "scaler = StandardScaler()\n",
    "scaled = scaler.fit_transform(df)"
   ]
  },
  {
   "cell_type": "code",
   "execution_count": 5,
   "id": "f16e6b7f",
   "metadata": {
    "execution": {
     "iopub.execute_input": "2023-03-08T06:52:30.352154Z",
     "iopub.status.busy": "2023-03-08T06:52:30.351756Z",
     "iopub.status.idle": "2023-03-08T06:52:30.357547Z",
     "shell.execute_reply": "2023-03-08T06:52:30.356255Z"
    },
    "papermill": {
     "duration": 0.01695,
     "end_time": "2023-03-08T06:52:30.360223",
     "exception": false,
     "start_time": "2023-03-08T06:52:30.343273",
     "status": "completed"
    },
    "tags": []
   },
   "outputs": [],
   "source": [
    "df_scaled = pd.DataFrame(scaled)"
   ]
  },
  {
   "cell_type": "markdown",
   "id": "00d07fe3",
   "metadata": {
    "papermill": {
     "duration": 0.007207,
     "end_time": "2023-03-08T06:52:30.376055",
     "exception": false,
     "start_time": "2023-03-08T06:52:30.368848",
     "status": "completed"
    },
    "tags": []
   },
   "source": [
    "Scaled the data for all the columns such as their Standard Deviation is 1."
   ]
  },
  {
   "cell_type": "code",
   "execution_count": 6,
   "id": "1c0e84ca",
   "metadata": {
    "execution": {
     "iopub.execute_input": "2023-03-08T06:52:30.393661Z",
     "iopub.status.busy": "2023-03-08T06:52:30.393322Z",
     "iopub.status.idle": "2023-03-08T06:52:30.421633Z",
     "shell.execute_reply": "2023-03-08T06:52:30.419891Z"
    },
    "papermill": {
     "duration": 0.040734,
     "end_time": "2023-03-08T06:52:30.424477",
     "exception": false,
     "start_time": "2023-03-08T06:52:30.383743",
     "status": "completed"
    },
    "tags": []
   },
   "outputs": [
    {
     "data": {
      "text/html": [
       "<div>\n",
       "<style scoped>\n",
       "    .dataframe tbody tr th:only-of-type {\n",
       "        vertical-align: middle;\n",
       "    }\n",
       "\n",
       "    .dataframe tbody tr th {\n",
       "        vertical-align: top;\n",
       "    }\n",
       "\n",
       "    .dataframe thead th {\n",
       "        text-align: right;\n",
       "    }\n",
       "</style>\n",
       "<table border=\"1\" class=\"dataframe\">\n",
       "  <thead>\n",
       "    <tr style=\"text-align: right;\">\n",
       "      <th></th>\n",
       "      <th>0</th>\n",
       "      <th>1</th>\n",
       "      <th>2</th>\n",
       "      <th>3</th>\n",
       "      <th>4</th>\n",
       "      <th>5</th>\n",
       "      <th>6</th>\n",
       "      <th>7</th>\n",
       "      <th>8</th>\n",
       "      <th>9</th>\n",
       "      <th>...</th>\n",
       "      <th>125</th>\n",
       "      <th>126</th>\n",
       "      <th>127</th>\n",
       "      <th>128</th>\n",
       "      <th>129</th>\n",
       "      <th>130</th>\n",
       "      <th>131</th>\n",
       "      <th>132</th>\n",
       "      <th>133</th>\n",
       "      <th>134</th>\n",
       "    </tr>\n",
       "  </thead>\n",
       "  <tbody>\n",
       "    <tr>\n",
       "      <th>0</th>\n",
       "      <td>-2.431423</td>\n",
       "      <td>1.483793</td>\n",
       "      <td>-1.161452</td>\n",
       "      <td>1.791645</td>\n",
       "      <td>0.270695</td>\n",
       "      <td>-0.089481</td>\n",
       "      <td>0.356688</td>\n",
       "      <td>1.632386</td>\n",
       "      <td>-0.572265</td>\n",
       "      <td>0.099085</td>\n",
       "      <td>...</td>\n",
       "      <td>-0.415398</td>\n",
       "      <td>-0.452132</td>\n",
       "      <td>-0.360327</td>\n",
       "      <td>-0.159069</td>\n",
       "      <td>-0.338560</td>\n",
       "      <td>-0.322463</td>\n",
       "      <td>-0.143152</td>\n",
       "      <td>-1.080384</td>\n",
       "      <td>0.538832</td>\n",
       "      <td>-1.429594</td>\n",
       "    </tr>\n",
       "    <tr>\n",
       "      <th>1</th>\n",
       "      <td>-2.811765</td>\n",
       "      <td>0.697328</td>\n",
       "      <td>-2.056736</td>\n",
       "      <td>0.978536</td>\n",
       "      <td>-0.911127</td>\n",
       "      <td>-0.973984</td>\n",
       "      <td>-1.916140</td>\n",
       "      <td>0.007252</td>\n",
       "      <td>1.290173</td>\n",
       "      <td>-1.655500</td>\n",
       "      <td>...</td>\n",
       "      <td>-0.415398</td>\n",
       "      <td>-0.215571</td>\n",
       "      <td>0.263873</td>\n",
       "      <td>-0.159069</td>\n",
       "      <td>-0.338560</td>\n",
       "      <td>-0.322463</td>\n",
       "      <td>-0.143152</td>\n",
       "      <td>-0.973158</td>\n",
       "      <td>0.538832</td>\n",
       "      <td>-1.189911</td>\n",
       "    </tr>\n",
       "    <tr>\n",
       "      <th>2</th>\n",
       "      <td>-0.103309</td>\n",
       "      <td>-0.413561</td>\n",
       "      <td>0.030206</td>\n",
       "      <td>-0.230614</td>\n",
       "      <td>-0.200565</td>\n",
       "      <td>-0.235467</td>\n",
       "      <td>0.078330</td>\n",
       "      <td>0.601497</td>\n",
       "      <td>0.102205</td>\n",
       "      <td>0.044518</td>\n",
       "      <td>...</td>\n",
       "      <td>-0.415398</td>\n",
       "      <td>0.115614</td>\n",
       "      <td>-0.776461</td>\n",
       "      <td>-0.159069</td>\n",
       "      <td>1.815429</td>\n",
       "      <td>-0.322463</td>\n",
       "      <td>-0.143152</td>\n",
       "      <td>-0.865932</td>\n",
       "      <td>0.538832</td>\n",
       "      <td>0.487868</td>\n",
       "    </tr>\n",
       "    <tr>\n",
       "      <th>3</th>\n",
       "      <td>3.701616</td>\n",
       "      <td>-1.404758</td>\n",
       "      <td>-1.796171</td>\n",
       "      <td>0.263228</td>\n",
       "      <td>0.142206</td>\n",
       "      <td>-0.327979</td>\n",
       "      <td>0.078298</td>\n",
       "      <td>0.339293</td>\n",
       "      <td>-2.803031</td>\n",
       "      <td>0.851896</td>\n",
       "      <td>...</td>\n",
       "      <td>1.510721</td>\n",
       "      <td>0.115614</td>\n",
       "      <td>2.344540</td>\n",
       "      <td>-0.159069</td>\n",
       "      <td>1.456431</td>\n",
       "      <td>-0.322463</td>\n",
       "      <td>-0.143152</td>\n",
       "      <td>-0.758705</td>\n",
       "      <td>0.538832</td>\n",
       "      <td>-0.231180</td>\n",
       "    </tr>\n",
       "    <tr>\n",
       "      <th>4</th>\n",
       "      <td>1.598397</td>\n",
       "      <td>-0.165481</td>\n",
       "      <td>1.795930</td>\n",
       "      <td>0.755155</td>\n",
       "      <td>-0.604168</td>\n",
       "      <td>-0.633534</td>\n",
       "      <td>-1.055088</td>\n",
       "      <td>-0.442009</td>\n",
       "      <td>1.344237</td>\n",
       "      <td>-0.536694</td>\n",
       "      <td>...</td>\n",
       "      <td>-0.415398</td>\n",
       "      <td>-0.357508</td>\n",
       "      <td>-0.776461</td>\n",
       "      <td>-0.159069</td>\n",
       "      <td>-0.338560</td>\n",
       "      <td>-0.322463</td>\n",
       "      <td>-0.143152</td>\n",
       "      <td>-0.651479</td>\n",
       "      <td>0.538832</td>\n",
       "      <td>0.727550</td>\n",
       "    </tr>\n",
       "    <tr>\n",
       "      <th>...</th>\n",
       "      <td>...</td>\n",
       "      <td>...</td>\n",
       "      <td>...</td>\n",
       "      <td>...</td>\n",
       "      <td>...</td>\n",
       "      <td>...</td>\n",
       "      <td>...</td>\n",
       "      <td>...</td>\n",
       "      <td>...</td>\n",
       "      <td>...</td>\n",
       "      <td>...</td>\n",
       "      <td>...</td>\n",
       "      <td>...</td>\n",
       "      <td>...</td>\n",
       "      <td>...</td>\n",
       "      <td>...</td>\n",
       "      <td>...</td>\n",
       "      <td>...</td>\n",
       "      <td>...</td>\n",
       "      <td>...</td>\n",
       "      <td>...</td>\n",
       "    </tr>\n",
       "    <tr>\n",
       "      <th>17332</th>\n",
       "      <td>-0.103309</td>\n",
       "      <td>-0.413561</td>\n",
       "      <td>0.030206</td>\n",
       "      <td>-0.230614</td>\n",
       "      <td>-0.200565</td>\n",
       "      <td>-0.235467</td>\n",
       "      <td>0.078330</td>\n",
       "      <td>0.601497</td>\n",
       "      <td>0.102205</td>\n",
       "      <td>0.044518</td>\n",
       "      <td>...</td>\n",
       "      <td>-0.415398</td>\n",
       "      <td>-0.215571</td>\n",
       "      <td>0.471940</td>\n",
       "      <td>-0.159069</td>\n",
       "      <td>-0.338560</td>\n",
       "      <td>-0.322463</td>\n",
       "      <td>-0.143152</td>\n",
       "      <td>0.099106</td>\n",
       "      <td>0.538832</td>\n",
       "      <td>-1.189911</td>\n",
       "    </tr>\n",
       "    <tr>\n",
       "      <th>17333</th>\n",
       "      <td>1.913463</td>\n",
       "      <td>-0.928488</td>\n",
       "      <td>-0.449048</td>\n",
       "      <td>-0.094250</td>\n",
       "      <td>-1.940294</td>\n",
       "      <td>0.322556</td>\n",
       "      <td>1.699141</td>\n",
       "      <td>1.075955</td>\n",
       "      <td>0.971536</td>\n",
       "      <td>-0.056004</td>\n",
       "      <td>...</td>\n",
       "      <td>-0.415398</td>\n",
       "      <td>-0.191915</td>\n",
       "      <td>0.263873</td>\n",
       "      <td>-0.159069</td>\n",
       "      <td>-0.338560</td>\n",
       "      <td>-0.322463</td>\n",
       "      <td>-0.143152</td>\n",
       "      <td>0.206332</td>\n",
       "      <td>0.538832</td>\n",
       "      <td>-1.189911</td>\n",
       "    </tr>\n",
       "    <tr>\n",
       "      <th>17334</th>\n",
       "      <td>-0.548514</td>\n",
       "      <td>0.277013</td>\n",
       "      <td>-1.669528</td>\n",
       "      <td>-0.860531</td>\n",
       "      <td>1.283522</td>\n",
       "      <td>0.859646</td>\n",
       "      <td>0.774062</td>\n",
       "      <td>-2.221331</td>\n",
       "      <td>-2.683164</td>\n",
       "      <td>1.971993</td>\n",
       "      <td>...</td>\n",
       "      <td>-0.415398</td>\n",
       "      <td>-0.475789</td>\n",
       "      <td>-0.568394</td>\n",
       "      <td>-0.159069</td>\n",
       "      <td>-0.338560</td>\n",
       "      <td>-0.322463</td>\n",
       "      <td>-0.143152</td>\n",
       "      <td>0.313558</td>\n",
       "      <td>0.538832</td>\n",
       "      <td>-0.950228</td>\n",
       "    </tr>\n",
       "    <tr>\n",
       "      <th>17335</th>\n",
       "      <td>2.021756</td>\n",
       "      <td>0.121105</td>\n",
       "      <td>0.286161</td>\n",
       "      <td>-0.913391</td>\n",
       "      <td>0.984242</td>\n",
       "      <td>0.491924</td>\n",
       "      <td>-0.900117</td>\n",
       "      <td>-0.062259</td>\n",
       "      <td>0.300681</td>\n",
       "      <td>-0.773981</td>\n",
       "      <td>...</td>\n",
       "      <td>1.510721</td>\n",
       "      <td>5.556521</td>\n",
       "      <td>0.055806</td>\n",
       "      <td>-0.159069</td>\n",
       "      <td>0.379436</td>\n",
       "      <td>-0.322463</td>\n",
       "      <td>-0.143152</td>\n",
       "      <td>0.420785</td>\n",
       "      <td>0.538832</td>\n",
       "      <td>-1.189911</td>\n",
       "    </tr>\n",
       "    <tr>\n",
       "      <th>17336</th>\n",
       "      <td>-0.710822</td>\n",
       "      <td>1.288865</td>\n",
       "      <td>0.918858</td>\n",
       "      <td>0.882426</td>\n",
       "      <td>0.851136</td>\n",
       "      <td>0.441219</td>\n",
       "      <td>0.019907</td>\n",
       "      <td>0.283588</td>\n",
       "      <td>-0.840359</td>\n",
       "      <td>-0.469561</td>\n",
       "      <td>...</td>\n",
       "      <td>-0.415398</td>\n",
       "      <td>-0.452132</td>\n",
       "      <td>-0.776461</td>\n",
       "      <td>-0.159069</td>\n",
       "      <td>-0.338560</td>\n",
       "      <td>-0.322463</td>\n",
       "      <td>-0.143152</td>\n",
       "      <td>0.528011</td>\n",
       "      <td>0.538832</td>\n",
       "      <td>-1.429594</td>\n",
       "    </tr>\n",
       "  </tbody>\n",
       "</table>\n",
       "<p>17337 rows × 135 columns</p>\n",
       "</div>"
      ],
      "text/plain": [
       "            0         1         2         3         4         5         6    \\\n",
       "0     -2.431423  1.483793 -1.161452  1.791645  0.270695 -0.089481  0.356688   \n",
       "1     -2.811765  0.697328 -2.056736  0.978536 -0.911127 -0.973984 -1.916140   \n",
       "2     -0.103309 -0.413561  0.030206 -0.230614 -0.200565 -0.235467  0.078330   \n",
       "3      3.701616 -1.404758 -1.796171  0.263228  0.142206 -0.327979  0.078298   \n",
       "4      1.598397 -0.165481  1.795930  0.755155 -0.604168 -0.633534 -1.055088   \n",
       "...         ...       ...       ...       ...       ...       ...       ...   \n",
       "17332 -0.103309 -0.413561  0.030206 -0.230614 -0.200565 -0.235467  0.078330   \n",
       "17333  1.913463 -0.928488 -0.449048 -0.094250 -1.940294  0.322556  1.699141   \n",
       "17334 -0.548514  0.277013 -1.669528 -0.860531  1.283522  0.859646  0.774062   \n",
       "17335  2.021756  0.121105  0.286161 -0.913391  0.984242  0.491924 -0.900117   \n",
       "17336 -0.710822  1.288865  0.918858  0.882426  0.851136  0.441219  0.019907   \n",
       "\n",
       "            7         8         9    ...       125       126       127  \\\n",
       "0      1.632386 -0.572265  0.099085  ... -0.415398 -0.452132 -0.360327   \n",
       "1      0.007252  1.290173 -1.655500  ... -0.415398 -0.215571  0.263873   \n",
       "2      0.601497  0.102205  0.044518  ... -0.415398  0.115614 -0.776461   \n",
       "3      0.339293 -2.803031  0.851896  ...  1.510721  0.115614  2.344540   \n",
       "4     -0.442009  1.344237 -0.536694  ... -0.415398 -0.357508 -0.776461   \n",
       "...         ...       ...       ...  ...       ...       ...       ...   \n",
       "17332  0.601497  0.102205  0.044518  ... -0.415398 -0.215571  0.471940   \n",
       "17333  1.075955  0.971536 -0.056004  ... -0.415398 -0.191915  0.263873   \n",
       "17334 -2.221331 -2.683164  1.971993  ... -0.415398 -0.475789 -0.568394   \n",
       "17335 -0.062259  0.300681 -0.773981  ...  1.510721  5.556521  0.055806   \n",
       "17336  0.283588 -0.840359 -0.469561  ... -0.415398 -0.452132 -0.776461   \n",
       "\n",
       "            128       129       130       131       132       133       134  \n",
       "0     -0.159069 -0.338560 -0.322463 -0.143152 -1.080384  0.538832 -1.429594  \n",
       "1     -0.159069 -0.338560 -0.322463 -0.143152 -0.973158  0.538832 -1.189911  \n",
       "2     -0.159069  1.815429 -0.322463 -0.143152 -0.865932  0.538832  0.487868  \n",
       "3     -0.159069  1.456431 -0.322463 -0.143152 -0.758705  0.538832 -0.231180  \n",
       "4     -0.159069 -0.338560 -0.322463 -0.143152 -0.651479  0.538832  0.727550  \n",
       "...         ...       ...       ...       ...       ...       ...       ...  \n",
       "17332 -0.159069 -0.338560 -0.322463 -0.143152  0.099106  0.538832 -1.189911  \n",
       "17333 -0.159069 -0.338560 -0.322463 -0.143152  0.206332  0.538832 -1.189911  \n",
       "17334 -0.159069 -0.338560 -0.322463 -0.143152  0.313558  0.538832 -0.950228  \n",
       "17335 -0.159069  0.379436 -0.322463 -0.143152  0.420785  0.538832 -1.189911  \n",
       "17336 -0.159069 -0.338560 -0.322463 -0.143152  0.528011  0.538832 -1.429594  \n",
       "\n",
       "[17337 rows x 135 columns]"
      ]
     },
     "execution_count": 6,
     "metadata": {},
     "output_type": "execute_result"
    }
   ],
   "source": [
    "df_scaled"
   ]
  },
  {
   "cell_type": "code",
   "execution_count": 7,
   "id": "f0703378",
   "metadata": {
    "execution": {
     "iopub.execute_input": "2023-03-08T06:52:30.443011Z",
     "iopub.status.busy": "2023-03-08T06:52:30.442621Z",
     "iopub.status.idle": "2023-03-08T06:52:30.456284Z",
     "shell.execute_reply": "2023-03-08T06:52:30.455032Z"
    },
    "papermill": {
     "duration": 0.025991,
     "end_time": "2023-03-08T06:52:30.458645",
     "exception": false,
     "start_time": "2023-03-08T06:52:30.432654",
     "status": "completed"
    },
    "tags": []
   },
   "outputs": [
    {
     "data": {
      "text/plain": [
       "array([1., 1., 1., 1., 1., 1., 1., 1., 1., 1., 1., 1., 1., 1., 1., 1., 1.,\n",
       "       1., 1., 1., 1., 1., 1., 1., 1., 1., 1., 1., 1., 1., 1., 1., 1., 1.,\n",
       "       1., 1., 1., 1., 1., 1., 1., 1., 1., 1., 1., 1., 1., 1., 1., 1., 1.,\n",
       "       1., 1., 1., 1., 1., 1., 1., 1., 1., 1., 1., 1., 1., 1., 1., 1., 1.,\n",
       "       1., 1., 1., 1., 1., 1., 1., 1., 1., 1., 1., 1., 1., 1., 1., 1., 1.,\n",
       "       1., 1., 1., 1., 1., 1., 1., 1., 1., 1., 1., 1., 1., 1., 1., 1., 1.,\n",
       "       1., 1., 1., 1., 1., 1., 1., 1., 1., 1., 1., 1., 1., 1., 1., 1., 1.,\n",
       "       1., 1., 1., 1., 1., 1., 1., 1., 1., 1., 1., 1., 1., 1., 1., 1.])"
      ]
     },
     "execution_count": 7,
     "metadata": {},
     "output_type": "execute_result"
    }
   ],
   "source": [
    "scaled.std(axis=0)"
   ]
  },
  {
   "cell_type": "markdown",
   "id": "65411a54",
   "metadata": {
    "papermill": {
     "duration": 0.008171,
     "end_time": "2023-03-08T06:52:30.475386",
     "exception": false,
     "start_time": "2023-03-08T06:52:30.467215",
     "status": "completed"
    },
    "tags": []
   },
   "source": [
    "***Selection of Independent and Dependent Variables***"
   ]
  },
  {
   "cell_type": "markdown",
   "id": "65094b2c",
   "metadata": {
    "papermill": {
     "duration": 0.008121,
     "end_time": "2023-03-08T06:52:30.491533",
     "exception": false,
     "start_time": "2023-03-08T06:52:30.483412",
     "status": "completed"
    },
    "tags": []
   },
   "source": [
    "column 134 represents the label column(dependent variable) after scaling the data"
   ]
  },
  {
   "cell_type": "code",
   "execution_count": 8,
   "id": "b6f500ec",
   "metadata": {
    "execution": {
     "iopub.execute_input": "2023-03-08T06:52:30.510979Z",
     "iopub.status.busy": "2023-03-08T06:52:30.510513Z",
     "iopub.status.idle": "2023-03-08T06:52:30.520085Z",
     "shell.execute_reply": "2023-03-08T06:52:30.518814Z"
    },
    "papermill": {
     "duration": 0.023345,
     "end_time": "2023-03-08T06:52:30.523105",
     "exception": false,
     "start_time": "2023-03-08T06:52:30.499760",
     "status": "completed"
    },
    "tags": []
   },
   "outputs": [],
   "source": [
    "x=df_scaled.drop(134,axis=1)\n",
    "y=df_scaled[134]"
   ]
  },
  {
   "cell_type": "markdown",
   "id": "3273361a",
   "metadata": {
    "papermill": {
     "duration": 0.007996,
     "end_time": "2023-03-08T06:52:30.539764",
     "exception": false,
     "start_time": "2023-03-08T06:52:30.531768",
     "status": "completed"
    },
    "tags": []
   },
   "source": [
    "***Splitting the data***"
   ]
  },
  {
   "cell_type": "code",
   "execution_count": 9,
   "id": "913fcddb",
   "metadata": {
    "execution": {
     "iopub.execute_input": "2023-03-08T06:52:30.559801Z",
     "iopub.status.busy": "2023-03-08T06:52:30.558645Z",
     "iopub.status.idle": "2023-03-08T06:52:30.663112Z",
     "shell.execute_reply": "2023-03-08T06:52:30.661513Z"
    },
    "papermill": {
     "duration": 0.11772,
     "end_time": "2023-03-08T06:52:30.665797",
     "exception": false,
     "start_time": "2023-03-08T06:52:30.548077",
     "status": "completed"
    },
    "tags": []
   },
   "outputs": [],
   "source": [
    "from sklearn.model_selection import train_test_split\n",
    "x_train,x_test,y_train,y_test = train_test_split(x,y,test_size=0.2,random_state=101)"
   ]
  },
  {
   "cell_type": "markdown",
   "id": "5d60b400",
   "metadata": {
    "papermill": {
     "duration": 0.007999,
     "end_time": "2023-03-08T06:52:30.682118",
     "exception": false,
     "start_time": "2023-03-08T06:52:30.674119",
     "status": "completed"
    },
    "tags": []
   },
   "source": [
    "***Linear Regression***"
   ]
  },
  {
   "cell_type": "code",
   "execution_count": 10,
   "id": "44168c0e",
   "metadata": {
    "execution": {
     "iopub.execute_input": "2023-03-08T06:52:30.700333Z",
     "iopub.status.busy": "2023-03-08T06:52:30.699890Z",
     "iopub.status.idle": "2023-03-08T06:52:30.875540Z",
     "shell.execute_reply": "2023-03-08T06:52:30.874695Z"
    },
    "papermill": {
     "duration": 0.187321,
     "end_time": "2023-03-08T06:52:30.877721",
     "exception": false,
     "start_time": "2023-03-08T06:52:30.690400",
     "status": "completed"
    },
    "tags": []
   },
   "outputs": [
    {
     "data": {
      "text/plain": [
       "LinearRegression()"
      ]
     },
     "execution_count": 10,
     "metadata": {},
     "output_type": "execute_result"
    }
   ],
   "source": [
    "from sklearn.linear_model import LinearRegression\n",
    "std_model=LinearRegression()\n",
    "std_model.fit(x_train,y_train)"
   ]
  },
  {
   "cell_type": "code",
   "execution_count": 11,
   "id": "87a60d83",
   "metadata": {
    "execution": {
     "iopub.execute_input": "2023-03-08T06:52:30.901090Z",
     "iopub.status.busy": "2023-03-08T06:52:30.900327Z",
     "iopub.status.idle": "2023-03-08T06:52:30.919980Z",
     "shell.execute_reply": "2023-03-08T06:52:30.919140Z"
    },
    "papermill": {
     "duration": 0.034178,
     "end_time": "2023-03-08T06:52:30.922375",
     "exception": false,
     "start_time": "2023-03-08T06:52:30.888197",
     "status": "completed"
    },
    "tags": []
   },
   "outputs": [
    {
     "data": {
      "text/html": [
       "<div>\n",
       "<style scoped>\n",
       "    .dataframe tbody tr th:only-of-type {\n",
       "        vertical-align: middle;\n",
       "    }\n",
       "\n",
       "    .dataframe tbody tr th {\n",
       "        vertical-align: top;\n",
       "    }\n",
       "\n",
       "    .dataframe thead th {\n",
       "        text-align: right;\n",
       "    }\n",
       "</style>\n",
       "<table border=\"1\" class=\"dataframe\">\n",
       "  <thead>\n",
       "    <tr style=\"text-align: right;\">\n",
       "      <th></th>\n",
       "      <th>y_test</th>\n",
       "      <th>y_pred</th>\n",
       "    </tr>\n",
       "  </thead>\n",
       "  <tbody>\n",
       "    <tr>\n",
       "      <th>9941</th>\n",
       "      <td>0.967233</td>\n",
       "      <td>-0.498667</td>\n",
       "    </tr>\n",
       "    <tr>\n",
       "      <th>721</th>\n",
       "      <td>1.925963</td>\n",
       "      <td>-0.180471</td>\n",
       "    </tr>\n",
       "    <tr>\n",
       "      <th>13668</th>\n",
       "      <td>-1.189911</td>\n",
       "      <td>-1.232166</td>\n",
       "    </tr>\n",
       "    <tr>\n",
       "      <th>3193</th>\n",
       "      <td>-1.189911</td>\n",
       "      <td>-0.949997</td>\n",
       "    </tr>\n",
       "    <tr>\n",
       "      <th>15922</th>\n",
       "      <td>0.727550</td>\n",
       "      <td>0.434826</td>\n",
       "    </tr>\n",
       "    <tr>\n",
       "      <th>...</th>\n",
       "      <td>...</td>\n",
       "      <td>...</td>\n",
       "    </tr>\n",
       "    <tr>\n",
       "      <th>16967</th>\n",
       "      <td>0.248185</td>\n",
       "      <td>-0.740152</td>\n",
       "    </tr>\n",
       "    <tr>\n",
       "      <th>8031</th>\n",
       "      <td>0.008502</td>\n",
       "      <td>-0.194791</td>\n",
       "    </tr>\n",
       "    <tr>\n",
       "      <th>5714</th>\n",
       "      <td>-0.231180</td>\n",
       "      <td>-0.507549</td>\n",
       "    </tr>\n",
       "    <tr>\n",
       "      <th>2770</th>\n",
       "      <td>-1.189911</td>\n",
       "      <td>-0.631835</td>\n",
       "    </tr>\n",
       "    <tr>\n",
       "      <th>8119</th>\n",
       "      <td>0.727550</td>\n",
       "      <td>-0.603582</td>\n",
       "    </tr>\n",
       "  </tbody>\n",
       "</table>\n",
       "<p>3468 rows × 2 columns</p>\n",
       "</div>"
      ],
      "text/plain": [
       "         y_test    y_pred\n",
       "9941   0.967233 -0.498667\n",
       "721    1.925963 -0.180471\n",
       "13668 -1.189911 -1.232166\n",
       "3193  -1.189911 -0.949997\n",
       "15922  0.727550  0.434826\n",
       "...         ...       ...\n",
       "16967  0.248185 -0.740152\n",
       "8031   0.008502 -0.194791\n",
       "5714  -0.231180 -0.507549\n",
       "2770  -1.189911 -0.631835\n",
       "8119   0.727550 -0.603582\n",
       "\n",
       "[3468 rows x 2 columns]"
      ]
     },
     "execution_count": 11,
     "metadata": {},
     "output_type": "execute_result"
    }
   ],
   "source": [
    "y_pred = std_model.predict(x_test)\n",
    "pd.DataFrame({'y_test': y_test,'y_pred': y_pred})"
   ]
  },
  {
   "cell_type": "code",
   "execution_count": 12,
   "id": "f269f0d7",
   "metadata": {
    "execution": {
     "iopub.execute_input": "2023-03-08T06:52:30.944923Z",
     "iopub.status.busy": "2023-03-08T06:52:30.944505Z",
     "iopub.status.idle": "2023-03-08T06:52:30.955607Z",
     "shell.execute_reply": "2023-03-08T06:52:30.954779Z"
    },
    "papermill": {
     "duration": 0.02578,
     "end_time": "2023-03-08T06:52:30.958948",
     "exception": false,
     "start_time": "2023-03-08T06:52:30.933168",
     "status": "completed"
    },
    "tags": []
   },
   "outputs": [
    {
     "name": "stdout",
     "output_type": "stream",
     "text": [
      "0.5073150358686915\n"
     ]
    }
   ],
   "source": [
    "r2score = std_model.score(x_test,y_test)\n",
    "print(r2score)"
   ]
  },
  {
   "cell_type": "markdown",
   "id": "e25ca1bc",
   "metadata": {
    "papermill": {
     "duration": 0.009983,
     "end_time": "2023-03-08T06:52:30.979532",
     "exception": false,
     "start_time": "2023-03-08T06:52:30.969549",
     "status": "completed"
    },
    "tags": []
   },
   "source": [
    "***Decision Tree***"
   ]
  },
  {
   "cell_type": "code",
   "execution_count": 13,
   "id": "38d4d44c",
   "metadata": {
    "execution": {
     "iopub.execute_input": "2023-03-08T06:52:31.002236Z",
     "iopub.status.busy": "2023-03-08T06:52:31.001860Z",
     "iopub.status.idle": "2023-03-08T06:52:32.110043Z",
     "shell.execute_reply": "2023-03-08T06:52:32.107400Z"
    },
    "papermill": {
     "duration": 1.122622,
     "end_time": "2023-03-08T06:52:32.112742",
     "exception": false,
     "start_time": "2023-03-08T06:52:30.990120",
     "status": "completed"
    },
    "tags": []
   },
   "outputs": [
    {
     "data": {
      "text/plain": [
       "DecisionTreeRegressor()"
      ]
     },
     "execution_count": 13,
     "metadata": {},
     "output_type": "execute_result"
    }
   ],
   "source": [
    "from sklearn.tree import DecisionTreeRegressor\n",
    "decision_model = DecisionTreeRegressor()\n",
    "decision_model.fit(x_train,y_train)"
   ]
  },
  {
   "cell_type": "code",
   "execution_count": 14,
   "id": "c98e7f6a",
   "metadata": {
    "execution": {
     "iopub.execute_input": "2023-03-08T06:52:32.131567Z",
     "iopub.status.busy": "2023-03-08T06:52:32.131217Z",
     "iopub.status.idle": "2023-03-08T06:52:32.146492Z",
     "shell.execute_reply": "2023-03-08T06:52:32.145427Z"
    },
    "papermill": {
     "duration": 0.027305,
     "end_time": "2023-03-08T06:52:32.148694",
     "exception": false,
     "start_time": "2023-03-08T06:52:32.121389",
     "status": "completed"
    },
    "tags": []
   },
   "outputs": [
    {
     "data": {
      "text/html": [
       "<div>\n",
       "<style scoped>\n",
       "    .dataframe tbody tr th:only-of-type {\n",
       "        vertical-align: middle;\n",
       "    }\n",
       "\n",
       "    .dataframe tbody tr th {\n",
       "        vertical-align: top;\n",
       "    }\n",
       "\n",
       "    .dataframe thead th {\n",
       "        text-align: right;\n",
       "    }\n",
       "</style>\n",
       "<table border=\"1\" class=\"dataframe\">\n",
       "  <thead>\n",
       "    <tr style=\"text-align: right;\">\n",
       "      <th></th>\n",
       "      <th>y_test</th>\n",
       "      <th>Y_pred</th>\n",
       "    </tr>\n",
       "  </thead>\n",
       "  <tbody>\n",
       "    <tr>\n",
       "      <th>9941</th>\n",
       "      <td>0.967233</td>\n",
       "      <td>-0.721959</td>\n",
       "    </tr>\n",
       "    <tr>\n",
       "      <th>721</th>\n",
       "      <td>1.925963</td>\n",
       "      <td>0.727550</td>\n",
       "    </tr>\n",
       "    <tr>\n",
       "      <th>13668</th>\n",
       "      <td>-1.189911</td>\n",
       "      <td>-1.189911</td>\n",
       "    </tr>\n",
       "    <tr>\n",
       "      <th>3193</th>\n",
       "      <td>-1.189911</td>\n",
       "      <td>-1.189911</td>\n",
       "    </tr>\n",
       "    <tr>\n",
       "      <th>15922</th>\n",
       "      <td>0.727550</td>\n",
       "      <td>0.727550</td>\n",
       "    </tr>\n",
       "    <tr>\n",
       "      <th>...</th>\n",
       "      <td>...</td>\n",
       "      <td>...</td>\n",
       "    </tr>\n",
       "    <tr>\n",
       "      <th>16967</th>\n",
       "      <td>0.248185</td>\n",
       "      <td>-1.189911</td>\n",
       "    </tr>\n",
       "    <tr>\n",
       "      <th>8031</th>\n",
       "      <td>0.008502</td>\n",
       "      <td>-1.429594</td>\n",
       "    </tr>\n",
       "    <tr>\n",
       "      <th>5714</th>\n",
       "      <td>-0.231180</td>\n",
       "      <td>-0.231180</td>\n",
       "    </tr>\n",
       "    <tr>\n",
       "      <th>2770</th>\n",
       "      <td>-1.189911</td>\n",
       "      <td>1.925963</td>\n",
       "    </tr>\n",
       "    <tr>\n",
       "      <th>8119</th>\n",
       "      <td>0.727550</td>\n",
       "      <td>-1.189911</td>\n",
       "    </tr>\n",
       "  </tbody>\n",
       "</table>\n",
       "<p>3468 rows × 2 columns</p>\n",
       "</div>"
      ],
      "text/plain": [
       "         y_test    Y_pred\n",
       "9941   0.967233 -0.721959\n",
       "721    1.925963  0.727550\n",
       "13668 -1.189911 -1.189911\n",
       "3193  -1.189911 -1.189911\n",
       "15922  0.727550  0.727550\n",
       "...         ...       ...\n",
       "16967  0.248185 -1.189911\n",
       "8031   0.008502 -1.429594\n",
       "5714  -0.231180 -0.231180\n",
       "2770  -1.189911  1.925963\n",
       "8119   0.727550 -1.189911\n",
       "\n",
       "[3468 rows x 2 columns]"
      ]
     },
     "execution_count": 14,
     "metadata": {},
     "output_type": "execute_result"
    }
   ],
   "source": [
    "tree_pred = decision_model.predict(x_test)\n",
    "pd.DataFrame({'y_test': y_test,'Y_pred': tree_pred})"
   ]
  },
  {
   "cell_type": "code",
   "execution_count": 15,
   "id": "26479e1f",
   "metadata": {
    "execution": {
     "iopub.execute_input": "2023-03-08T06:52:32.168072Z",
     "iopub.status.busy": "2023-03-08T06:52:32.167490Z",
     "iopub.status.idle": "2023-03-08T06:52:32.177724Z",
     "shell.execute_reply": "2023-03-08T06:52:32.176615Z"
    },
    "papermill": {
     "duration": 0.023048,
     "end_time": "2023-03-08T06:52:32.180412",
     "exception": false,
     "start_time": "2023-03-08T06:52:32.157364",
     "status": "completed"
    },
    "tags": []
   },
   "outputs": [
    {
     "name": "stdout",
     "output_type": "stream",
     "text": [
      "0.5203274981220789\n"
     ]
    }
   ],
   "source": [
    "r2score = decision_model.score(x_test,y_test)\n",
    "print(r2score)"
   ]
  },
  {
   "cell_type": "markdown",
   "id": "07db46f7",
   "metadata": {
    "papermill": {
     "duration": 0.008583,
     "end_time": "2023-03-08T06:52:32.198010",
     "exception": false,
     "start_time": "2023-03-08T06:52:32.189427",
     "status": "completed"
    },
    "tags": []
   },
   "source": [
    "***Random Forest***"
   ]
  },
  {
   "cell_type": "code",
   "execution_count": 16,
   "id": "116f4580",
   "metadata": {
    "execution": {
     "iopub.execute_input": "2023-03-08T06:52:32.216940Z",
     "iopub.status.busy": "2023-03-08T06:52:32.216541Z",
     "iopub.status.idle": "2023-03-08T06:53:31.535237Z",
     "shell.execute_reply": "2023-03-08T06:53:31.534213Z"
    },
    "papermill": {
     "duration": 59.339122,
     "end_time": "2023-03-08T06:53:31.545827",
     "exception": false,
     "start_time": "2023-03-08T06:52:32.206705",
     "status": "completed"
    },
    "tags": []
   },
   "outputs": [
    {
     "data": {
      "text/plain": [
       "RandomForestRegressor()"
      ]
     },
     "execution_count": 16,
     "metadata": {},
     "output_type": "execute_result"
    }
   ],
   "source": [
    "from sklearn.ensemble import RandomForestRegressor\n",
    "forest_model = RandomForestRegressor()\n",
    "forest_model.fit(x_train,y_train)"
   ]
  },
  {
   "cell_type": "code",
   "execution_count": 17,
   "id": "b20923b3",
   "metadata": {
    "execution": {
     "iopub.execute_input": "2023-03-08T06:53:31.566014Z",
     "iopub.status.busy": "2023-03-08T06:53:31.564363Z",
     "iopub.status.idle": "2023-03-08T06:53:31.643932Z",
     "shell.execute_reply": "2023-03-08T06:53:31.642876Z"
    },
    "papermill": {
     "duration": 0.092756,
     "end_time": "2023-03-08T06:53:31.647132",
     "exception": false,
     "start_time": "2023-03-08T06:53:31.554376",
     "status": "completed"
    },
    "tags": []
   },
   "outputs": [
    {
     "data": {
      "text/html": [
       "<div>\n",
       "<style scoped>\n",
       "    .dataframe tbody tr th:only-of-type {\n",
       "        vertical-align: middle;\n",
       "    }\n",
       "\n",
       "    .dataframe tbody tr th {\n",
       "        vertical-align: top;\n",
       "    }\n",
       "\n",
       "    .dataframe thead th {\n",
       "        text-align: right;\n",
       "    }\n",
       "</style>\n",
       "<table border=\"1\" class=\"dataframe\">\n",
       "  <thead>\n",
       "    <tr style=\"text-align: right;\">\n",
       "      <th></th>\n",
       "      <th>y_test</th>\n",
       "      <th>Y_pred</th>\n",
       "    </tr>\n",
       "  </thead>\n",
       "  <tbody>\n",
       "    <tr>\n",
       "      <th>9941</th>\n",
       "      <td>0.967233</td>\n",
       "      <td>-0.760659</td>\n",
       "    </tr>\n",
       "    <tr>\n",
       "      <th>721</th>\n",
       "      <td>1.925963</td>\n",
       "      <td>0.358439</td>\n",
       "    </tr>\n",
       "    <tr>\n",
       "      <th>13668</th>\n",
       "      <td>-1.189911</td>\n",
       "      <td>-1.170736</td>\n",
       "    </tr>\n",
       "    <tr>\n",
       "      <th>3193</th>\n",
       "      <td>-1.189911</td>\n",
       "      <td>-1.118006</td>\n",
       "    </tr>\n",
       "    <tr>\n",
       "      <th>15922</th>\n",
       "      <td>0.727550</td>\n",
       "      <td>0.734741</td>\n",
       "    </tr>\n",
       "    <tr>\n",
       "      <th>...</th>\n",
       "      <td>...</td>\n",
       "      <td>...</td>\n",
       "    </tr>\n",
       "    <tr>\n",
       "      <th>16967</th>\n",
       "      <td>0.248185</td>\n",
       "      <td>-0.537175</td>\n",
       "    </tr>\n",
       "    <tr>\n",
       "      <th>8031</th>\n",
       "      <td>0.008502</td>\n",
       "      <td>-0.758482</td>\n",
       "    </tr>\n",
       "    <tr>\n",
       "      <th>5714</th>\n",
       "      <td>-0.231180</td>\n",
       "      <td>-0.240768</td>\n",
       "    </tr>\n",
       "    <tr>\n",
       "      <th>2770</th>\n",
       "      <td>-1.189911</td>\n",
       "      <td>-0.223990</td>\n",
       "    </tr>\n",
       "    <tr>\n",
       "      <th>8119</th>\n",
       "      <td>0.727550</td>\n",
       "      <td>-0.770466</td>\n",
       "    </tr>\n",
       "  </tbody>\n",
       "</table>\n",
       "<p>3468 rows × 2 columns</p>\n",
       "</div>"
      ],
      "text/plain": [
       "         y_test    Y_pred\n",
       "9941   0.967233 -0.760659\n",
       "721    1.925963  0.358439\n",
       "13668 -1.189911 -1.170736\n",
       "3193  -1.189911 -1.118006\n",
       "15922  0.727550  0.734741\n",
       "...         ...       ...\n",
       "16967  0.248185 -0.537175\n",
       "8031   0.008502 -0.758482\n",
       "5714  -0.231180 -0.240768\n",
       "2770  -1.189911 -0.223990\n",
       "8119   0.727550 -0.770466\n",
       "\n",
       "[3468 rows x 2 columns]"
      ]
     },
     "execution_count": 17,
     "metadata": {},
     "output_type": "execute_result"
    }
   ],
   "source": [
    "Y_pred = forest_model.predict(x_test)\n",
    "pd.DataFrame({'y_test': y_test,'Y_pred': Y_pred})"
   ]
  },
  {
   "cell_type": "code",
   "execution_count": 18,
   "id": "21e13c87",
   "metadata": {
    "execution": {
     "iopub.execute_input": "2023-03-08T06:53:31.666895Z",
     "iopub.status.busy": "2023-03-08T06:53:31.666490Z",
     "iopub.status.idle": "2023-03-08T06:53:31.740035Z",
     "shell.execute_reply": "2023-03-08T06:53:31.738683Z"
    },
    "papermill": {
     "duration": 0.086365,
     "end_time": "2023-03-08T06:53:31.742569",
     "exception": false,
     "start_time": "2023-03-08T06:53:31.656204",
     "status": "completed"
    },
    "tags": []
   },
   "outputs": [
    {
     "name": "stdout",
     "output_type": "stream",
     "text": [
      "0.7482505571702325\n"
     ]
    }
   ],
   "source": [
    "r2score = forest_model.score(x_test,y_test)\n",
    "print(r2score)"
   ]
  },
  {
   "cell_type": "markdown",
   "id": "2752e7d8",
   "metadata": {
    "papermill": {
     "duration": 0.009702,
     "end_time": "2023-03-08T06:53:31.761320",
     "exception": false,
     "start_time": "2023-03-08T06:53:31.751618",
     "status": "completed"
    },
    "tags": []
   },
   "source": [
    "***XGBoost Model***"
   ]
  },
  {
   "cell_type": "code",
   "execution_count": 19,
   "id": "49005895",
   "metadata": {
    "execution": {
     "iopub.execute_input": "2023-03-08T06:53:31.781461Z",
     "iopub.status.busy": "2023-03-08T06:53:31.781136Z",
     "iopub.status.idle": "2023-03-08T06:53:36.278338Z",
     "shell.execute_reply": "2023-03-08T06:53:36.277307Z"
    },
    "papermill": {
     "duration": 4.510107,
     "end_time": "2023-03-08T06:53:36.280555",
     "exception": false,
     "start_time": "2023-03-08T06:53:31.770448",
     "status": "completed"
    },
    "tags": []
   },
   "outputs": [
    {
     "data": {
      "text/plain": [
       "XGBRegressor(base_score=0.5, booster='gbtree', callbacks=None,\n",
       "             colsample_bylevel=1, colsample_bynode=1, colsample_bytree=1,\n",
       "             early_stopping_rounds=None, enable_categorical=False,\n",
       "             eval_metric=None, gamma=0, gpu_id=-1, grow_policy='depthwise',\n",
       "             importance_type=None, interaction_constraints='',\n",
       "             learning_rate=0.300000012, max_bin=256, max_cat_to_onehot=4,\n",
       "             max_delta_step=0, max_depth=6, max_leaves=0, min_child_weight=1,\n",
       "             missing=nan, monotone_constraints='()', n_estimators=100, n_jobs=0,\n",
       "             num_parallel_tree=1, predictor='auto', random_state=0, reg_alpha=0,\n",
       "             reg_lambda=1, ...)"
      ]
     },
     "execution_count": 19,
     "metadata": {},
     "output_type": "execute_result"
    }
   ],
   "source": [
    "from xgboost import XGBRegressor\n",
    "xg_model = XGBRegressor()\n",
    "xg_model.fit(x_train,y_train)"
   ]
  },
  {
   "cell_type": "markdown",
   "id": "0a7bf5e7",
   "metadata": {
    "papermill": {
     "duration": 0.008815,
     "end_time": "2023-03-08T06:53:36.298519",
     "exception": false,
     "start_time": "2023-03-08T06:53:36.289704",
     "status": "completed"
    },
    "tags": []
   },
   "source": [
    "Plotting the difference between the original testing data and xgboost model predicted data"
   ]
  },
  {
   "cell_type": "code",
   "execution_count": 20,
   "id": "343440f8",
   "metadata": {
    "execution": {
     "iopub.execute_input": "2023-03-08T06:53:36.320679Z",
     "iopub.status.busy": "2023-03-08T06:53:36.320298Z",
     "iopub.status.idle": "2023-03-08T06:53:37.316375Z",
     "shell.execute_reply": "2023-03-08T06:53:37.315083Z"
    },
    "papermill": {
     "duration": 1.009802,
     "end_time": "2023-03-08T06:53:37.318505",
     "exception": false,
     "start_time": "2023-03-08T06:53:36.308703",
     "status": "completed"
    },
    "tags": []
   },
   "outputs": [
    {
     "data": {
      "text/plain": [
       "<seaborn.axisgrid.FacetGrid at 0x7f936fc5b1d0>"
      ]
     },
     "execution_count": 20,
     "metadata": {},
     "output_type": "execute_result"
    },
    {
     "data": {
      "image/png": "[encoded data removed]",
      "text/plain": [
       "<Figure size 500x500 with 1 Axes>"
      ]
     },
     "metadata": {},
     "output_type": "display_data"
    }
   ],
   "source": [
    "xg_pred = xg_model.predict(x_test)\n",
    "# pd.DataFrame({'y_test': y_test,'Y_pred': xg_pred})\n",
    "import seaborn as sns\n",
    "sns.displot(y_test-xg_pred)"
   ]
  },
  {
   "cell_type": "code",
   "execution_count": 21,
   "id": "d7bcbe41",
   "metadata": {
    "execution": {
     "iopub.execute_input": "2023-03-08T06:53:37.340152Z",
     "iopub.status.busy": "2023-03-08T06:53:37.339779Z",
     "iopub.status.idle": "2023-03-08T06:53:37.361630Z",
     "shell.execute_reply": "2023-03-08T06:53:37.360425Z"
    },
    "papermill": {
     "duration": 0.035424,
     "end_time": "2023-03-08T06:53:37.363873",
     "exception": false,
     "start_time": "2023-03-08T06:53:37.328449",
     "status": "completed"
    },
    "tags": []
   },
   "outputs": [
    {
     "name": "stdout",
     "output_type": "stream",
     "text": [
      "0.7399552273181559\n"
     ]
    }
   ],
   "source": [
    "r2score = xg_model.score(x_test,y_test)\n",
    "print(r2score)"
   ]
  },
  {
   "cell_type": "markdown",
   "id": "8aca9109",
   "metadata": {
    "papermill": {
     "duration": 0.008937,
     "end_time": "2023-03-08T06:53:37.382158",
     "exception": false,
     "start_time": "2023-03-08T06:53:37.373221",
     "status": "completed"
    },
    "tags": []
   },
   "source": [
    "Plotting the difference between original test data and random forest model predicted data"
   ]
  },
  {
   "cell_type": "code",
   "execution_count": 22,
   "id": "7c2d49bd",
   "metadata": {
    "execution": {
     "iopub.execute_input": "2023-03-08T06:53:37.402949Z",
     "iopub.status.busy": "2023-03-08T06:53:37.401635Z",
     "iopub.status.idle": "2023-03-08T06:53:38.333699Z",
     "shell.execute_reply": "2023-03-08T06:53:38.332601Z"
    },
    "papermill": {
     "duration": 0.944931,
     "end_time": "2023-03-08T06:53:38.336251",
     "exception": false,
     "start_time": "2023-03-08T06:53:37.391320",
     "status": "completed"
    },
    "tags": []
   },
   "outputs": [
    {
     "data": {
      "text/plain": [
       "<seaborn.axisgrid.FacetGrid at 0x7f9386230a10>"
      ]
     },
     "execution_count": 22,
     "metadata": {},
     "output_type": "execute_result"
    },
    {
     "data": {
      "image/png": "[encoded data removed]",
      "text/plain": [
       "<Figure size 500x500 with 1 Axes>"
      ]
     },
     "metadata": {},
     "output_type": "display_data"
    }
   ],
   "source": [
    "sns.displot(y_test-Y_pred)"
   ]
  },
  {
   "cell_type": "code",
   "execution_count": null,
   "id": "ab7a6a96",
   "metadata": {
    "papermill": {
     "duration": 0.009728,
     "end_time": "2023-03-08T06:53:38.356029",
     "exception": false,
     "start_time": "2023-03-08T06:53:38.346301",
     "status": "completed"
    },
    "tags": []
   },
   "outputs": [],
   "source": []
  },
  {
   "cell_type": "code",
   "execution_count": null,
   "id": "87138159",
   "metadata": {
    "papermill": {
     "duration": 0.00991,
     "end_time": "2023-03-08T06:53:38.376486",
     "exception": false,
     "start_time": "2023-03-08T06:53:38.366576",
     "status": "completed"
    },
    "tags": []
   },
   "outputs": [],
   "source": []
  }
 ],
 "metadata": {
  "kernelspec": {
   "display_name": "Python 3",
   "language": "python",
   "name": "python3"
  },
  "language_info": {
   "codemirror_mode": {
    "name": "ipython",
    "version": 3
   },
   "file_extension": ".py",
   "mimetype": "text/x-python",
   "name": "python",
   "nbconvert_exporter": "python",
   "pygments_lexer": "ipython3",
   "version": "3.7.12"
  },
  "papermill": {
   "default_parameters": {},
   "duration": 80.640683,
   "end_time": "2023-03-08T06:53:39.207513",
   "environment_variables": {},
   "exception": null,
   "input_path": "__notebook__.ipynb",
   "output_path": "__notebook__.ipynb",
   "parameters": {},
   "start_time": "2023-03-08T06:52:18.566830",
   "version": "2.4.0"
  }
 },
 "nbformat": 4,
 "nbformat_minor": 5
}
