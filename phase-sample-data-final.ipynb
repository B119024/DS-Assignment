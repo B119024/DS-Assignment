{
 "cells": [
  {
   "cell_type": "code",
   "execution_count": 1,
   "id": "dd13979d",
   "metadata": {
    "_cell_guid": "b1076dfc-b9ad-4769-8c92-a6c4dae69d19",
    "_uuid": "8f2839f25d086af736a60e9eeb907d3b93b6e0e5",
    "execution": {
     "iopub.execute_input": "2023-03-08T06:17:01.092757Z",
     "iopub.status.busy": "2023-03-08T06:17:01.092350Z",
     "iopub.status.idle": "2023-03-08T06:17:01.116333Z",
     "shell.execute_reply": "2023-03-08T06:17:01.114308Z"
    },
    "papermill": {
     "duration": 0.039091,
     "end_time": "2023-03-08T06:17:01.120856",
     "exception": false,
     "start_time": "2023-03-08T06:17:01.081765",
     "status": "completed"
    },
    "tags": []
   },
   "outputs": [
    {
     "name": "stdout",
     "output_type": "stream",
     "text": [
      "/kaggle/input/sample-data/phase_data_sample.csv\n"
     ]
    }
   ],
   "source": [
    "# This Python 3 environment comes with many helpful analytics libraries installed\n",
    "# It is defined by the kaggle/python Docker image: https://github.com/kaggle/docker-python\n",
    "# For example, here's several helpful packages to load\n",
    "\n",
    "import numpy as np # linear algebra\n",
    "import pandas as pd # data processing, CSV file I/O (e.g. pd.read_csv)\n",
    "\n",
    "# Input data files are available in the read-only \"../input/\" directory\n",
    "# For example, running this (by clicking run or pressing Shift+Enter) will list all files under the input directory\n",
    "\n",
    "import os\n",
    "for dirname, _, filenames in os.walk('/kaggle/input'):\n",
    "    for filename in filenames:\n",
    "        print(os.path.join(dirname, filename))\n",
    "\n",
    "# You can write up to 20GB to the current directory (/kaggle/working/) that gets preserved as output when you create a version using \"Save & Run All\" \n",
    "# You can also write temporary files to /kaggle/temp/, but they won't be saved outside of the current session"
   ]
  },
  {
   "cell_type": "markdown",
   "id": "49b5f006",
   "metadata": {
    "papermill": {
     "duration": 0.007421,
     "end_time": "2023-03-08T06:17:01.136863",
     "exception": false,
     "start_time": "2023-03-08T06:17:01.129442",
     "status": "completed"
    },
    "tags": []
   },
   "source": [
    "***Reading the Data using pandas***"
   ]
  },
  {
   "cell_type": "code",
   "execution_count": 2,
   "id": "931f259f",
   "metadata": {
    "execution": {
     "iopub.execute_input": "2023-03-08T06:17:01.154727Z",
     "iopub.status.busy": "2023-03-08T06:17:01.153610Z",
     "iopub.status.idle": "2023-03-08T06:17:02.519806Z",
     "shell.execute_reply": "2023-03-08T06:17:02.518694Z"
    },
    "papermill": {
     "duration": 1.378211,
     "end_time": "2023-03-08T06:17:02.522742",
     "exception": false,
     "start_time": "2023-03-08T06:17:01.144531",
     "status": "completed"
    },
    "tags": []
   },
   "outputs": [],
   "source": [
    "df = pd.read_csv('/kaggle/input/sample-data/phase_data_sample.csv',index_col=None)"
   ]
  },
  {
   "cell_type": "markdown",
   "id": "ccc63a44",
   "metadata": {
    "papermill": {
     "duration": 0.007182,
     "end_time": "2023-03-08T06:17:02.537518",
     "exception": false,
     "start_time": "2023-03-08T06:17:02.530336",
     "status": "completed"
    },
    "tags": []
   },
   "source": [
    "***Normalizing the data using L2 norm***"
   ]
  },
  {
   "cell_type": "code",
   "execution_count": 3,
   "id": "dfe417cd",
   "metadata": {
    "execution": {
     "iopub.execute_input": "2023-03-08T06:17:02.554392Z",
     "iopub.status.busy": "2023-03-08T06:17:02.553802Z",
     "iopub.status.idle": "2023-03-08T06:17:03.570622Z",
     "shell.execute_reply": "2023-03-08T06:17:03.569284Z"
    },
    "papermill": {
     "duration": 1.028344,
     "end_time": "2023-03-08T06:17:03.573345",
     "exception": false,
     "start_time": "2023-03-08T06:17:02.545001",
     "status": "completed"
    },
    "tags": []
   },
   "outputs": [],
   "source": [
    "from sklearn.preprocessing import normalize\n",
    "normalized = normalize(df,'l2')"
   ]
  },
  {
   "cell_type": "code",
   "execution_count": 4,
   "id": "d1a8d8bf",
   "metadata": {
    "execution": {
     "iopub.execute_input": "2023-03-08T06:17:03.591299Z",
     "iopub.status.busy": "2023-03-08T06:17:03.589918Z",
     "iopub.status.idle": "2023-03-08T06:17:03.595173Z",
     "shell.execute_reply": "2023-03-08T06:17:03.594338Z"
    },
    "papermill": {
     "duration": 0.016485,
     "end_time": "2023-03-08T06:17:03.597278",
     "exception": false,
     "start_time": "2023-03-08T06:17:03.580793",
     "status": "completed"
    },
    "tags": []
   },
   "outputs": [],
   "source": [
    "df_normalized = pd.DataFrame(normalized)"
   ]
  },
  {
   "cell_type": "code",
   "execution_count": 5,
   "id": "c3afdf5c",
   "metadata": {
    "execution": {
     "iopub.execute_input": "2023-03-08T06:17:03.614690Z",
     "iopub.status.busy": "2023-03-08T06:17:03.613515Z",
     "iopub.status.idle": "2023-03-08T06:17:03.656672Z",
     "shell.execute_reply": "2023-03-08T06:17:03.655277Z"
    },
    "papermill": {
     "duration": 0.054625,
     "end_time": "2023-03-08T06:17:03.659367",
     "exception": false,
     "start_time": "2023-03-08T06:17:03.604742",
     "status": "completed"
    },
    "tags": []
   },
   "outputs": [
    {
     "data": {
      "text/html": [
       "<div>\n",
       "<style scoped>\n",
       "    .dataframe tbody tr th:only-of-type {\n",
       "        vertical-align: middle;\n",
       "    }\n",
       "\n",
       "    .dataframe tbody tr th {\n",
       "        vertical-align: top;\n",
       "    }\n",
       "\n",
       "    .dataframe thead th {\n",
       "        text-align: right;\n",
       "    }\n",
       "</style>\n",
       "<table border=\"1\" class=\"dataframe\">\n",
       "  <thead>\n",
       "    <tr style=\"text-align: right;\">\n",
       "      <th></th>\n",
       "      <th>0</th>\n",
       "      <th>1</th>\n",
       "      <th>2</th>\n",
       "      <th>3</th>\n",
       "      <th>4</th>\n",
       "      <th>5</th>\n",
       "      <th>6</th>\n",
       "      <th>7</th>\n",
       "      <th>8</th>\n",
       "      <th>9</th>\n",
       "      <th>...</th>\n",
       "      <th>125</th>\n",
       "      <th>126</th>\n",
       "      <th>127</th>\n",
       "      <th>128</th>\n",
       "      <th>129</th>\n",
       "      <th>130</th>\n",
       "      <th>131</th>\n",
       "      <th>132</th>\n",
       "      <th>133</th>\n",
       "      <th>134</th>\n",
       "    </tr>\n",
       "  </thead>\n",
       "  <tbody>\n",
       "    <tr>\n",
       "      <th>0</th>\n",
       "      <td>-0.169101</td>\n",
       "      <td>0.103195</td>\n",
       "      <td>-0.080777</td>\n",
       "      <td>0.124606</td>\n",
       "      <td>0.018826</td>\n",
       "      <td>-0.006223</td>\n",
       "      <td>0.024807</td>\n",
       "      <td>0.113530</td>\n",
       "      <td>-0.039800</td>\n",
       "      <td>0.006891</td>\n",
       "      <td>...</td>\n",
       "      <td>-0.028890</td>\n",
       "      <td>-0.031445</td>\n",
       "      <td>-0.025060</td>\n",
       "      <td>-0.011063</td>\n",
       "      <td>-0.023546</td>\n",
       "      <td>-0.022427</td>\n",
       "      <td>-0.009956</td>\n",
       "      <td>-0.075139</td>\n",
       "      <td>0.037475</td>\n",
       "      <td>0.000000</td>\n",
       "    </tr>\n",
       "    <tr>\n",
       "      <th>1</th>\n",
       "      <td>-0.198897</td>\n",
       "      <td>0.049327</td>\n",
       "      <td>-0.145488</td>\n",
       "      <td>0.069219</td>\n",
       "      <td>-0.064451</td>\n",
       "      <td>-0.068897</td>\n",
       "      <td>-0.135543</td>\n",
       "      <td>0.000513</td>\n",
       "      <td>0.091264</td>\n",
       "      <td>-0.117106</td>\n",
       "      <td>...</td>\n",
       "      <td>-0.029384</td>\n",
       "      <td>-0.015249</td>\n",
       "      <td>0.018666</td>\n",
       "      <td>-0.011252</td>\n",
       "      <td>-0.023949</td>\n",
       "      <td>-0.022810</td>\n",
       "      <td>-0.010126</td>\n",
       "      <td>-0.068839</td>\n",
       "      <td>0.038116</td>\n",
       "      <td>0.070737</td>\n",
       "    </tr>\n",
       "    <tr>\n",
       "      <th>2</th>\n",
       "      <td>-0.007153</td>\n",
       "      <td>-0.028636</td>\n",
       "      <td>0.002092</td>\n",
       "      <td>-0.015968</td>\n",
       "      <td>-0.013887</td>\n",
       "      <td>-0.016304</td>\n",
       "      <td>0.005424</td>\n",
       "      <td>0.041649</td>\n",
       "      <td>0.007077</td>\n",
       "      <td>0.003082</td>\n",
       "      <td>...</td>\n",
       "      <td>-0.028763</td>\n",
       "      <td>0.008005</td>\n",
       "      <td>-0.053763</td>\n",
       "      <td>-0.011014</td>\n",
       "      <td>0.125703</td>\n",
       "      <td>-0.022328</td>\n",
       "      <td>-0.009912</td>\n",
       "      <td>-0.059959</td>\n",
       "      <td>0.037310</td>\n",
       "      <td>0.553934</td>\n",
       "    </tr>\n",
       "    <tr>\n",
       "      <th>3</th>\n",
       "      <td>0.219426</td>\n",
       "      <td>-0.083272</td>\n",
       "      <td>-0.106474</td>\n",
       "      <td>0.015604</td>\n",
       "      <td>0.008430</td>\n",
       "      <td>-0.019442</td>\n",
       "      <td>0.004641</td>\n",
       "      <td>0.020113</td>\n",
       "      <td>-0.166159</td>\n",
       "      <td>0.050499</td>\n",
       "      <td>...</td>\n",
       "      <td>0.089553</td>\n",
       "      <td>0.006853</td>\n",
       "      <td>0.138980</td>\n",
       "      <td>-0.009429</td>\n",
       "      <td>0.086335</td>\n",
       "      <td>-0.019115</td>\n",
       "      <td>-0.008486</td>\n",
       "      <td>-0.044975</td>\n",
       "      <td>0.031941</td>\n",
       "      <td>0.296392</td>\n",
       "    </tr>\n",
       "    <tr>\n",
       "      <th>4</th>\n",
       "      <td>0.095095</td>\n",
       "      <td>-0.009845</td>\n",
       "      <td>0.106846</td>\n",
       "      <td>0.044927</td>\n",
       "      <td>-0.035944</td>\n",
       "      <td>-0.037691</td>\n",
       "      <td>-0.062771</td>\n",
       "      <td>-0.026297</td>\n",
       "      <td>0.079974</td>\n",
       "      <td>-0.031930</td>\n",
       "      <td>...</td>\n",
       "      <td>-0.024714</td>\n",
       "      <td>-0.021269</td>\n",
       "      <td>-0.046194</td>\n",
       "      <td>-0.009464</td>\n",
       "      <td>-0.020142</td>\n",
       "      <td>-0.019184</td>\n",
       "      <td>-0.008517</td>\n",
       "      <td>-0.038759</td>\n",
       "      <td>0.032057</td>\n",
       "      <td>0.535443</td>\n",
       "    </tr>\n",
       "    <tr>\n",
       "      <th>...</th>\n",
       "      <td>...</td>\n",
       "      <td>...</td>\n",
       "      <td>...</td>\n",
       "      <td>...</td>\n",
       "      <td>...</td>\n",
       "      <td>...</td>\n",
       "      <td>...</td>\n",
       "      <td>...</td>\n",
       "      <td>...</td>\n",
       "      <td>...</td>\n",
       "      <td>...</td>\n",
       "      <td>...</td>\n",
       "      <td>...</td>\n",
       "      <td>...</td>\n",
       "      <td>...</td>\n",
       "      <td>...</td>\n",
       "      <td>...</td>\n",
       "      <td>...</td>\n",
       "      <td>...</td>\n",
       "      <td>...</td>\n",
       "      <td>...</td>\n",
       "    </tr>\n",
       "    <tr>\n",
       "      <th>17332</th>\n",
       "      <td>-0.008900</td>\n",
       "      <td>-0.035627</td>\n",
       "      <td>0.002602</td>\n",
       "      <td>-0.019867</td>\n",
       "      <td>-0.017278</td>\n",
       "      <td>-0.020285</td>\n",
       "      <td>0.006748</td>\n",
       "      <td>0.051818</td>\n",
       "      <td>0.008805</td>\n",
       "      <td>0.003835</td>\n",
       "      <td>...</td>\n",
       "      <td>-0.035786</td>\n",
       "      <td>-0.018571</td>\n",
       "      <td>0.040656</td>\n",
       "      <td>-0.013703</td>\n",
       "      <td>-0.029166</td>\n",
       "      <td>-0.027779</td>\n",
       "      <td>-0.012332</td>\n",
       "      <td>0.008538</td>\n",
       "      <td>0.046419</td>\n",
       "      <td>0.086148</td>\n",
       "    </tr>\n",
       "    <tr>\n",
       "      <th>17333</th>\n",
       "      <td>0.147488</td>\n",
       "      <td>-0.071567</td>\n",
       "      <td>-0.034612</td>\n",
       "      <td>-0.007265</td>\n",
       "      <td>-0.149556</td>\n",
       "      <td>0.024862</td>\n",
       "      <td>0.130969</td>\n",
       "      <td>0.082934</td>\n",
       "      <td>0.074885</td>\n",
       "      <td>-0.004317</td>\n",
       "      <td>...</td>\n",
       "      <td>-0.032019</td>\n",
       "      <td>-0.014793</td>\n",
       "      <td>0.020339</td>\n",
       "      <td>-0.012261</td>\n",
       "      <td>-0.026096</td>\n",
       "      <td>-0.024855</td>\n",
       "      <td>-0.011034</td>\n",
       "      <td>0.015904</td>\n",
       "      <td>0.041533</td>\n",
       "      <td>0.077079</td>\n",
       "    </tr>\n",
       "    <tr>\n",
       "      <th>17334</th>\n",
       "      <td>-0.049399</td>\n",
       "      <td>0.024948</td>\n",
       "      <td>-0.150357</td>\n",
       "      <td>-0.077499</td>\n",
       "      <td>0.115593</td>\n",
       "      <td>0.077419</td>\n",
       "      <td>0.069712</td>\n",
       "      <td>-0.200052</td>\n",
       "      <td>-0.241644</td>\n",
       "      <td>0.177596</td>\n",
       "      <td>...</td>\n",
       "      <td>-0.037410</td>\n",
       "      <td>-0.042849</td>\n",
       "      <td>-0.051189</td>\n",
       "      <td>-0.014326</td>\n",
       "      <td>-0.030491</td>\n",
       "      <td>-0.029041</td>\n",
       "      <td>-0.012892</td>\n",
       "      <td>0.028239</td>\n",
       "      <td>0.048527</td>\n",
       "      <td>0.180119</td>\n",
       "    </tr>\n",
       "    <tr>\n",
       "      <th>17335</th>\n",
       "      <td>0.114717</td>\n",
       "      <td>0.006872</td>\n",
       "      <td>0.016237</td>\n",
       "      <td>-0.051827</td>\n",
       "      <td>0.055847</td>\n",
       "      <td>0.027912</td>\n",
       "      <td>-0.051074</td>\n",
       "      <td>-0.003533</td>\n",
       "      <td>0.017061</td>\n",
       "      <td>-0.043917</td>\n",
       "      <td>...</td>\n",
       "      <td>0.085720</td>\n",
       "      <td>0.315284</td>\n",
       "      <td>0.003167</td>\n",
       "      <td>-0.009026</td>\n",
       "      <td>0.021530</td>\n",
       "      <td>-0.018297</td>\n",
       "      <td>-0.008123</td>\n",
       "      <td>0.023876</td>\n",
       "      <td>0.030574</td>\n",
       "      <td>0.056741</td>\n",
       "    </tr>\n",
       "    <tr>\n",
       "      <th>17336</th>\n",
       "      <td>-0.066687</td>\n",
       "      <td>0.120916</td>\n",
       "      <td>0.086204</td>\n",
       "      <td>0.082786</td>\n",
       "      <td>0.079850</td>\n",
       "      <td>0.041393</td>\n",
       "      <td>0.001868</td>\n",
       "      <td>0.026605</td>\n",
       "      <td>-0.078839</td>\n",
       "      <td>-0.044052</td>\n",
       "      <td>...</td>\n",
       "      <td>-0.038971</td>\n",
       "      <td>-0.042417</td>\n",
       "      <td>-0.072845</td>\n",
       "      <td>-0.014923</td>\n",
       "      <td>-0.031762</td>\n",
       "      <td>-0.030252</td>\n",
       "      <td>-0.013430</td>\n",
       "      <td>0.049536</td>\n",
       "      <td>0.050551</td>\n",
       "      <td>0.000000</td>\n",
       "    </tr>\n",
       "  </tbody>\n",
       "</table>\n",
       "<p>17337 rows × 135 columns</p>\n",
       "</div>"
      ],
      "text/plain": [
       "            0         1         2         3         4         5         6    \\\n",
       "0     -0.169101  0.103195 -0.080777  0.124606  0.018826 -0.006223  0.024807   \n",
       "1     -0.198897  0.049327 -0.145488  0.069219 -0.064451 -0.068897 -0.135543   \n",
       "2     -0.007153 -0.028636  0.002092 -0.015968 -0.013887 -0.016304  0.005424   \n",
       "3      0.219426 -0.083272 -0.106474  0.015604  0.008430 -0.019442  0.004641   \n",
       "4      0.095095 -0.009845  0.106846  0.044927 -0.035944 -0.037691 -0.062771   \n",
       "...         ...       ...       ...       ...       ...       ...       ...   \n",
       "17332 -0.008900 -0.035627  0.002602 -0.019867 -0.017278 -0.020285  0.006748   \n",
       "17333  0.147488 -0.071567 -0.034612 -0.007265 -0.149556  0.024862  0.130969   \n",
       "17334 -0.049399  0.024948 -0.150357 -0.077499  0.115593  0.077419  0.069712   \n",
       "17335  0.114717  0.006872  0.016237 -0.051827  0.055847  0.027912 -0.051074   \n",
       "17336 -0.066687  0.120916  0.086204  0.082786  0.079850  0.041393  0.001868   \n",
       "\n",
       "            7         8         9    ...       125       126       127  \\\n",
       "0      0.113530 -0.039800  0.006891  ... -0.028890 -0.031445 -0.025060   \n",
       "1      0.000513  0.091264 -0.117106  ... -0.029384 -0.015249  0.018666   \n",
       "2      0.041649  0.007077  0.003082  ... -0.028763  0.008005 -0.053763   \n",
       "3      0.020113 -0.166159  0.050499  ...  0.089553  0.006853  0.138980   \n",
       "4     -0.026297  0.079974 -0.031930  ... -0.024714 -0.021269 -0.046194   \n",
       "...         ...       ...       ...  ...       ...       ...       ...   \n",
       "17332  0.051818  0.008805  0.003835  ... -0.035786 -0.018571  0.040656   \n",
       "17333  0.082934  0.074885 -0.004317  ... -0.032019 -0.014793  0.020339   \n",
       "17334 -0.200052 -0.241644  0.177596  ... -0.037410 -0.042849 -0.051189   \n",
       "17335 -0.003533  0.017061 -0.043917  ...  0.085720  0.315284  0.003167   \n",
       "17336  0.026605 -0.078839 -0.044052  ... -0.038971 -0.042417 -0.072845   \n",
       "\n",
       "            128       129       130       131       132       133       134  \n",
       "0     -0.011063 -0.023546 -0.022427 -0.009956 -0.075139  0.037475  0.000000  \n",
       "1     -0.011252 -0.023949 -0.022810 -0.010126 -0.068839  0.038116  0.070737  \n",
       "2     -0.011014  0.125703 -0.022328 -0.009912 -0.059959  0.037310  0.553934  \n",
       "3     -0.009429  0.086335 -0.019115 -0.008486 -0.044975  0.031941  0.296392  \n",
       "4     -0.009464 -0.020142 -0.019184 -0.008517 -0.038759  0.032057  0.535443  \n",
       "...         ...       ...       ...       ...       ...       ...       ...  \n",
       "17332 -0.013703 -0.029166 -0.027779 -0.012332  0.008538  0.046419  0.086148  \n",
       "17333 -0.012261 -0.026096 -0.024855 -0.011034  0.015904  0.041533  0.077079  \n",
       "17334 -0.014326 -0.030491 -0.029041 -0.012892  0.028239  0.048527  0.180119  \n",
       "17335 -0.009026  0.021530 -0.018297 -0.008123  0.023876  0.030574  0.056741  \n",
       "17336 -0.014923 -0.031762 -0.030252 -0.013430  0.049536  0.050551  0.000000  \n",
       "\n",
       "[17337 rows x 135 columns]"
      ]
     },
     "execution_count": 5,
     "metadata": {},
     "output_type": "execute_result"
    }
   ],
   "source": [
    "df_normalized"
   ]
  },
  {
   "cell_type": "markdown",
   "id": "ce375da0",
   "metadata": {
    "papermill": {
     "duration": 0.007536,
     "end_time": "2023-03-08T06:17:03.675847",
     "exception": false,
     "start_time": "2023-03-08T06:17:03.668311",
     "status": "completed"
    },
    "tags": []
   },
   "source": [
    "***Feature selection***"
   ]
  },
  {
   "cell_type": "code",
   "execution_count": 6,
   "id": "04046c25",
   "metadata": {
    "execution": {
     "iopub.execute_input": "2023-03-08T06:17:03.694292Z",
     "iopub.status.busy": "2023-03-08T06:17:03.692944Z",
     "iopub.status.idle": "2023-03-08T06:17:03.707842Z",
     "shell.execute_reply": "2023-03-08T06:17:03.706762Z"
    },
    "papermill": {
     "duration": 0.026738,
     "end_time": "2023-03-08T06:17:03.710397",
     "exception": false,
     "start_time": "2023-03-08T06:17:03.683659",
     "status": "completed"
    },
    "tags": []
   },
   "outputs": [],
   "source": [
    "x=df_normalized.drop(134,axis=1)\n",
    "y=df_normalized[134]"
   ]
  },
  {
   "cell_type": "markdown",
   "id": "fb8c9ad7",
   "metadata": {
    "papermill": {
     "duration": 0.007616,
     "end_time": "2023-03-08T06:17:03.726164",
     "exception": false,
     "start_time": "2023-03-08T06:17:03.718548",
     "status": "completed"
    },
    "tags": []
   },
   "source": [
    "***Train and Test split of data***"
   ]
  },
  {
   "cell_type": "code",
   "execution_count": 7,
   "id": "a0737b5b",
   "metadata": {
    "execution": {
     "iopub.execute_input": "2023-03-08T06:17:03.744140Z",
     "iopub.status.busy": "2023-03-08T06:17:03.743697Z",
     "iopub.status.idle": "2023-03-08T06:17:03.827374Z",
     "shell.execute_reply": "2023-03-08T06:17:03.826169Z"
    },
    "papermill": {
     "duration": 0.09659,
     "end_time": "2023-03-08T06:17:03.830686",
     "exception": false,
     "start_time": "2023-03-08T06:17:03.734096",
     "status": "completed"
    },
    "tags": []
   },
   "outputs": [],
   "source": [
    "from sklearn.model_selection import train_test_split,cross_val_score\n",
    "x_train,x_test,y_train,y_test = train_test_split(x,y,test_size=0.2,random_state=101)"
   ]
  },
  {
   "cell_type": "markdown",
   "id": "59a1ea43",
   "metadata": {
    "papermill": {
     "duration": 0.00775,
     "end_time": "2023-03-08T06:17:03.846919",
     "exception": false,
     "start_time": "2023-03-08T06:17:03.839169",
     "status": "completed"
    },
    "tags": []
   },
   "source": [
    "***TRAINING THE DATA WITH DIFFERENT MODELS***"
   ]
  },
  {
   "cell_type": "markdown",
   "id": "f5000b2c",
   "metadata": {
    "papermill": {
     "duration": 0.007652,
     "end_time": "2023-03-08T06:17:03.862556",
     "exception": false,
     "start_time": "2023-03-08T06:17:03.854904",
     "status": "completed"
    },
    "tags": []
   },
   "source": [
    "***LinearRegression***"
   ]
  },
  {
   "cell_type": "code",
   "execution_count": 8,
   "id": "17bfbec8",
   "metadata": {
    "execution": {
     "iopub.execute_input": "2023-03-08T06:17:03.880877Z",
     "iopub.status.busy": "2023-03-08T06:17:03.879987Z",
     "iopub.status.idle": "2023-03-08T06:17:04.103417Z",
     "shell.execute_reply": "2023-03-08T06:17:04.102169Z"
    },
    "papermill": {
     "duration": 0.237024,
     "end_time": "2023-03-08T06:17:04.107647",
     "exception": false,
     "start_time": "2023-03-08T06:17:03.870623",
     "status": "completed"
    },
    "tags": []
   },
   "outputs": [
    {
     "data": {
      "text/plain": [
       "LinearRegression()"
      ]
     },
     "execution_count": 8,
     "metadata": {},
     "output_type": "execute_result"
    }
   ],
   "source": [
    "from sklearn.linear_model import LinearRegression\n",
    "std_model=LinearRegression()\n",
    "std_model.fit(x_train,y_train)"
   ]
  },
  {
   "cell_type": "code",
   "execution_count": 9,
   "id": "482633c2",
   "metadata": {
    "execution": {
     "iopub.execute_input": "2023-03-08T06:17:04.152097Z",
     "iopub.status.busy": "2023-03-08T06:17:04.151368Z",
     "iopub.status.idle": "2023-03-08T06:17:04.191625Z",
     "shell.execute_reply": "2023-03-08T06:17:04.189885Z"
    },
    "papermill": {
     "duration": 0.068591,
     "end_time": "2023-03-08T06:17:04.196973",
     "exception": false,
     "start_time": "2023-03-08T06:17:04.128382",
     "status": "completed"
    },
    "tags": []
   },
   "outputs": [
    {
     "data": {
      "text/html": [
       "<div>\n",
       "<style scoped>\n",
       "    .dataframe tbody tr th:only-of-type {\n",
       "        vertical-align: middle;\n",
       "    }\n",
       "\n",
       "    .dataframe tbody tr th {\n",
       "        vertical-align: top;\n",
       "    }\n",
       "\n",
       "    .dataframe thead th {\n",
       "        text-align: right;\n",
       "    }\n",
       "</style>\n",
       "<table border=\"1\" class=\"dataframe\">\n",
       "  <thead>\n",
       "    <tr style=\"text-align: right;\">\n",
       "      <th></th>\n",
       "      <th>y_test</th>\n",
       "      <th>y_pred</th>\n",
       "    </tr>\n",
       "  </thead>\n",
       "  <tbody>\n",
       "    <tr>\n",
       "      <th>9941</th>\n",
       "      <td>0.776602</td>\n",
       "      <td>0.407519</td>\n",
       "    </tr>\n",
       "    <tr>\n",
       "      <th>721</th>\n",
       "      <td>0.703690</td>\n",
       "      <td>0.350158</td>\n",
       "    </tr>\n",
       "    <tr>\n",
       "      <th>13668</th>\n",
       "      <td>0.078070</td>\n",
       "      <td>0.047068</td>\n",
       "    </tr>\n",
       "    <tr>\n",
       "      <th>3193</th>\n",
       "      <td>0.082716</td>\n",
       "      <td>0.093585</td>\n",
       "    </tr>\n",
       "    <tr>\n",
       "      <th>15922</th>\n",
       "      <td>0.527795</td>\n",
       "      <td>0.493836</td>\n",
       "    </tr>\n",
       "    <tr>\n",
       "      <th>...</th>\n",
       "      <td>...</td>\n",
       "      <td>...</td>\n",
       "    </tr>\n",
       "    <tr>\n",
       "      <th>16967</th>\n",
       "      <td>0.460952</td>\n",
       "      <td>0.235020</td>\n",
       "    </tr>\n",
       "    <tr>\n",
       "      <th>8031</th>\n",
       "      <td>0.474517</td>\n",
       "      <td>0.409956</td>\n",
       "    </tr>\n",
       "    <tr>\n",
       "      <th>5714</th>\n",
       "      <td>0.487082</td>\n",
       "      <td>0.411016</td>\n",
       "    </tr>\n",
       "    <tr>\n",
       "      <th>2770</th>\n",
       "      <td>0.086771</td>\n",
       "      <td>0.212582</td>\n",
       "    </tr>\n",
       "    <tr>\n",
       "      <th>8119</th>\n",
       "      <td>0.480769</td>\n",
       "      <td>0.310109</td>\n",
       "    </tr>\n",
       "  </tbody>\n",
       "</table>\n",
       "<p>3468 rows × 2 columns</p>\n",
       "</div>"
      ],
      "text/plain": [
       "         y_test    y_pred\n",
       "9941   0.776602  0.407519\n",
       "721    0.703690  0.350158\n",
       "13668  0.078070  0.047068\n",
       "3193   0.082716  0.093585\n",
       "15922  0.527795  0.493836\n",
       "...         ...       ...\n",
       "16967  0.460952  0.235020\n",
       "8031   0.474517  0.409956\n",
       "5714   0.487082  0.411016\n",
       "2770   0.086771  0.212582\n",
       "8119   0.480769  0.310109\n",
       "\n",
       "[3468 rows x 2 columns]"
      ]
     },
     "execution_count": 9,
     "metadata": {},
     "output_type": "execute_result"
    }
   ],
   "source": [
    "y_pred = std_model.predict(x_test)\n",
    "pd.DataFrame({'y_test': y_test,'y_pred': y_pred})"
   ]
  },
  {
   "cell_type": "code",
   "execution_count": 10,
   "id": "199a29b9",
   "metadata": {
    "execution": {
     "iopub.execute_input": "2023-03-08T06:17:04.243279Z",
     "iopub.status.busy": "2023-03-08T06:17:04.242528Z",
     "iopub.status.idle": "2023-03-08T06:17:04.268573Z",
     "shell.execute_reply": "2023-03-08T06:17:04.266833Z"
    },
    "papermill": {
     "duration": 0.054841,
     "end_time": "2023-03-08T06:17:04.273859",
     "exception": false,
     "start_time": "2023-03-08T06:17:04.219018",
     "status": "completed"
    },
    "tags": []
   },
   "outputs": [
    {
     "name": "stdout",
     "output_type": "stream",
     "text": [
      "56.750379899638446 %\n"
     ]
    }
   ],
   "source": [
    "r2score = std_model.score(x_test,y_test)\n",
    "print(r2score*100,'%')"
   ]
  },
  {
   "cell_type": "markdown",
   "id": "d36506cb",
   "metadata": {
    "papermill": {
     "duration": 0.02064,
     "end_time": "2023-03-08T06:17:04.316135",
     "exception": false,
     "start_time": "2023-03-08T06:17:04.295495",
     "status": "completed"
    },
    "tags": []
   },
   "source": [
    "***Decision Tree***"
   ]
  },
  {
   "cell_type": "code",
   "execution_count": 11,
   "id": "fd573370",
   "metadata": {
    "execution": {
     "iopub.execute_input": "2023-03-08T06:17:04.361686Z",
     "iopub.status.busy": "2023-03-08T06:17:04.360967Z",
     "iopub.status.idle": "2023-03-08T06:17:07.332427Z",
     "shell.execute_reply": "2023-03-08T06:17:07.331080Z"
    },
    "papermill": {
     "duration": 2.997957,
     "end_time": "2023-03-08T06:17:07.335331",
     "exception": false,
     "start_time": "2023-03-08T06:17:04.337374",
     "status": "completed"
    },
    "tags": []
   },
   "outputs": [
    {
     "data": {
      "text/plain": [
       "DecisionTreeRegressor()"
      ]
     },
     "execution_count": 11,
     "metadata": {},
     "output_type": "execute_result"
    }
   ],
   "source": [
    "from sklearn.tree import DecisionTreeRegressor\n",
    "decision_model = DecisionTreeRegressor()\n",
    "decision_model.fit(x_train,y_train)"
   ]
  },
  {
   "cell_type": "code",
   "execution_count": 12,
   "id": "f3403ebd",
   "metadata": {
    "execution": {
     "iopub.execute_input": "2023-03-08T06:17:07.355181Z",
     "iopub.status.busy": "2023-03-08T06:17:07.354003Z",
     "iopub.status.idle": "2023-03-08T06:17:07.374482Z",
     "shell.execute_reply": "2023-03-08T06:17:07.373199Z"
    },
    "papermill": {
     "duration": 0.033074,
     "end_time": "2023-03-08T06:17:07.377065",
     "exception": false,
     "start_time": "2023-03-08T06:17:07.343991",
     "status": "completed"
    },
    "tags": []
   },
   "outputs": [
    {
     "data": {
      "text/html": [
       "<div>\n",
       "<style scoped>\n",
       "    .dataframe tbody tr th:only-of-type {\n",
       "        vertical-align: middle;\n",
       "    }\n",
       "\n",
       "    .dataframe tbody tr th {\n",
       "        vertical-align: top;\n",
       "    }\n",
       "\n",
       "    .dataframe thead th {\n",
       "        text-align: right;\n",
       "    }\n",
       "</style>\n",
       "<table border=\"1\" class=\"dataframe\">\n",
       "  <thead>\n",
       "    <tr style=\"text-align: right;\">\n",
       "      <th></th>\n",
       "      <th>y_test</th>\n",
       "      <th>Y_pred</th>\n",
       "    </tr>\n",
       "  </thead>\n",
       "  <tbody>\n",
       "    <tr>\n",
       "      <th>9941</th>\n",
       "      <td>0.776602</td>\n",
       "      <td>0.776602</td>\n",
       "    </tr>\n",
       "    <tr>\n",
       "      <th>721</th>\n",
       "      <td>0.703690</td>\n",
       "      <td>0.753752</td>\n",
       "    </tr>\n",
       "    <tr>\n",
       "      <th>13668</th>\n",
       "      <td>0.078070</td>\n",
       "      <td>0.078121</td>\n",
       "    </tr>\n",
       "    <tr>\n",
       "      <th>3193</th>\n",
       "      <td>0.082716</td>\n",
       "      <td>0.082479</td>\n",
       "    </tr>\n",
       "    <tr>\n",
       "      <th>15922</th>\n",
       "      <td>0.527795</td>\n",
       "      <td>0.527795</td>\n",
       "    </tr>\n",
       "    <tr>\n",
       "      <th>...</th>\n",
       "      <td>...</td>\n",
       "      <td>...</td>\n",
       "    </tr>\n",
       "    <tr>\n",
       "      <th>16967</th>\n",
       "      <td>0.460952</td>\n",
       "      <td>0.132667</td>\n",
       "    </tr>\n",
       "    <tr>\n",
       "      <th>8031</th>\n",
       "      <td>0.474517</td>\n",
       "      <td>0.476976</td>\n",
       "    </tr>\n",
       "    <tr>\n",
       "      <th>5714</th>\n",
       "      <td>0.487082</td>\n",
       "      <td>0.487046</td>\n",
       "    </tr>\n",
       "    <tr>\n",
       "      <th>2770</th>\n",
       "      <td>0.086771</td>\n",
       "      <td>0.086714</td>\n",
       "    </tr>\n",
       "    <tr>\n",
       "      <th>8119</th>\n",
       "      <td>0.480769</td>\n",
       "      <td>0.477173</td>\n",
       "    </tr>\n",
       "  </tbody>\n",
       "</table>\n",
       "<p>3468 rows × 2 columns</p>\n",
       "</div>"
      ],
      "text/plain": [
       "         y_test    Y_pred\n",
       "9941   0.776602  0.776602\n",
       "721    0.703690  0.753752\n",
       "13668  0.078070  0.078121\n",
       "3193   0.082716  0.082479\n",
       "15922  0.527795  0.527795\n",
       "...         ...       ...\n",
       "16967  0.460952  0.132667\n",
       "8031   0.474517  0.476976\n",
       "5714   0.487082  0.487046\n",
       "2770   0.086771  0.086714\n",
       "8119   0.480769  0.477173\n",
       "\n",
       "[3468 rows x 2 columns]"
      ]
     },
     "execution_count": 12,
     "metadata": {},
     "output_type": "execute_result"
    }
   ],
   "source": [
    "tree_pred = decision_model.predict(x_test)\n",
    "pd.DataFrame({'y_test': y_test,'Y_pred': tree_pred})"
   ]
  },
  {
   "cell_type": "code",
   "execution_count": 13,
   "id": "c041d07a",
   "metadata": {
    "execution": {
     "iopub.execute_input": "2023-03-08T06:17:07.396913Z",
     "iopub.status.busy": "2023-03-08T06:17:07.396096Z",
     "iopub.status.idle": "2023-03-08T06:17:07.409123Z",
     "shell.execute_reply": "2023-03-08T06:17:07.407333Z"
    },
    "papermill": {
     "duration": 0.025957,
     "end_time": "2023-03-08T06:17:07.411767",
     "exception": false,
     "start_time": "2023-03-08T06:17:07.385810",
     "status": "completed"
    },
    "tags": []
   },
   "outputs": [
    {
     "name": "stdout",
     "output_type": "stream",
     "text": [
      "89.22815518469375 %\n"
     ]
    }
   ],
   "source": [
    "r2score = decision_model.score(x_test,y_test)\n",
    "print(r2score*100,'%')"
   ]
  },
  {
   "cell_type": "markdown",
   "id": "493c1c61",
   "metadata": {
    "papermill": {
     "duration": 0.008478,
     "end_time": "2023-03-08T06:17:07.429064",
     "exception": false,
     "start_time": "2023-03-08T06:17:07.420586",
     "status": "completed"
    },
    "tags": []
   },
   "source": [
    "the maximum percentage of accuracy would be 91.4% in Cross Validations"
   ]
  },
  {
   "cell_type": "code",
   "execution_count": 14,
   "id": "0003bc26",
   "metadata": {
    "execution": {
     "iopub.execute_input": "2023-03-08T06:17:07.449182Z",
     "iopub.status.busy": "2023-03-08T06:17:07.447867Z",
     "iopub.status.idle": "2023-03-08T06:17:32.985397Z",
     "shell.execute_reply": "2023-03-08T06:17:32.984191Z"
    },
    "papermill": {
     "duration": 25.550105,
     "end_time": "2023-03-08T06:17:32.987928",
     "exception": false,
     "start_time": "2023-03-08T06:17:07.437823",
     "status": "completed"
    },
    "tags": []
   },
   "outputs": [
    {
     "data": {
      "text/plain": [
       "array([0.88298472, 0.86896109, 0.86192054, 0.89466487, 0.89444615,\n",
       "       0.88090277, 0.89075999, 0.89046966, 0.91155314, 0.88675041])"
      ]
     },
     "execution_count": 14,
     "metadata": {},
     "output_type": "execute_result"
    }
   ],
   "source": [
    "cross_val_score(decision_model,x_train,y_train,cv=10)"
   ]
  },
  {
   "cell_type": "markdown",
   "id": "e615c9ba",
   "metadata": {
    "papermill": {
     "duration": 0.008604,
     "end_time": "2023-03-08T06:17:33.005436",
     "exception": false,
     "start_time": "2023-03-08T06:17:32.996832",
     "status": "completed"
    },
    "tags": []
   },
   "source": [
    "***Random Forest***"
   ]
  },
  {
   "cell_type": "code",
   "execution_count": 15,
   "id": "e8c21e6f",
   "metadata": {
    "execution": {
     "iopub.execute_input": "2023-03-08T06:17:33.025688Z",
     "iopub.status.busy": "2023-03-08T06:17:33.024881Z",
     "iopub.status.idle": "2023-03-08T06:20:28.983667Z",
     "shell.execute_reply": "2023-03-08T06:20:28.982190Z"
    },
    "papermill": {
     "duration": 175.981304,
     "end_time": "2023-03-08T06:20:28.995557",
     "exception": false,
     "start_time": "2023-03-08T06:17:33.014253",
     "status": "completed"
    },
    "tags": []
   },
   "outputs": [
    {
     "data": {
      "text/plain": [
       "RandomForestRegressor(max_depth=100, random_state=False, verbose=False)"
      ]
     },
     "execution_count": 15,
     "metadata": {},
     "output_type": "execute_result"
    }
   ],
   "source": [
    "from sklearn.ensemble import RandomForestRegressor\n",
    "forest_model = RandomForestRegressor(max_depth=100, n_estimators=100,\n",
    "                                     random_state=False, verbose=False)\n",
    "forest_model.fit(x_train,y_train)"
   ]
  },
  {
   "cell_type": "code",
   "execution_count": 16,
   "id": "5eabea91",
   "metadata": {
    "execution": {
     "iopub.execute_input": "2023-03-08T06:20:29.018992Z",
     "iopub.status.busy": "2023-03-08T06:20:29.017788Z",
     "iopub.status.idle": "2023-03-08T06:20:29.207832Z",
     "shell.execute_reply": "2023-03-08T06:20:29.206456Z"
    },
    "papermill": {
     "duration": 0.206174,
     "end_time": "2023-03-08T06:20:29.211079",
     "exception": false,
     "start_time": "2023-03-08T06:20:29.004905",
     "status": "completed"
    },
    "tags": []
   },
   "outputs": [
    {
     "data": {
      "text/html": [
       "<div>\n",
       "<style scoped>\n",
       "    .dataframe tbody tr th:only-of-type {\n",
       "        vertical-align: middle;\n",
       "    }\n",
       "\n",
       "    .dataframe tbody tr th {\n",
       "        vertical-align: top;\n",
       "    }\n",
       "\n",
       "    .dataframe thead th {\n",
       "        text-align: right;\n",
       "    }\n",
       "</style>\n",
       "<table border=\"1\" class=\"dataframe\">\n",
       "  <thead>\n",
       "    <tr style=\"text-align: right;\">\n",
       "      <th></th>\n",
       "      <th>y_test</th>\n",
       "      <th>y_pred</th>\n",
       "    </tr>\n",
       "  </thead>\n",
       "  <tbody>\n",
       "    <tr>\n",
       "      <th>9941</th>\n",
       "      <td>0.776602</td>\n",
       "      <td>0.776602</td>\n",
       "    </tr>\n",
       "    <tr>\n",
       "      <th>721</th>\n",
       "      <td>0.703690</td>\n",
       "      <td>0.684807</td>\n",
       "    </tr>\n",
       "    <tr>\n",
       "      <th>13668</th>\n",
       "      <td>0.078070</td>\n",
       "      <td>0.078039</td>\n",
       "    </tr>\n",
       "    <tr>\n",
       "      <th>3193</th>\n",
       "      <td>0.082716</td>\n",
       "      <td>0.075809</td>\n",
       "    </tr>\n",
       "    <tr>\n",
       "      <th>15922</th>\n",
       "      <td>0.527795</td>\n",
       "      <td>0.520616</td>\n",
       "    </tr>\n",
       "    <tr>\n",
       "      <th>...</th>\n",
       "      <td>...</td>\n",
       "      <td>...</td>\n",
       "    </tr>\n",
       "    <tr>\n",
       "      <th>16967</th>\n",
       "      <td>0.460952</td>\n",
       "      <td>0.231504</td>\n",
       "    </tr>\n",
       "    <tr>\n",
       "      <th>8031</th>\n",
       "      <td>0.474517</td>\n",
       "      <td>0.443535</td>\n",
       "    </tr>\n",
       "    <tr>\n",
       "      <th>5714</th>\n",
       "      <td>0.487082</td>\n",
       "      <td>0.487166</td>\n",
       "    </tr>\n",
       "    <tr>\n",
       "      <th>2770</th>\n",
       "      <td>0.086771</td>\n",
       "      <td>0.087166</td>\n",
       "    </tr>\n",
       "    <tr>\n",
       "      <th>8119</th>\n",
       "      <td>0.480769</td>\n",
       "      <td>0.264055</td>\n",
       "    </tr>\n",
       "  </tbody>\n",
       "</table>\n",
       "<p>3468 rows × 2 columns</p>\n",
       "</div>"
      ],
      "text/plain": [
       "         y_test    y_pred\n",
       "9941   0.776602  0.776602\n",
       "721    0.703690  0.684807\n",
       "13668  0.078070  0.078039\n",
       "3193   0.082716  0.075809\n",
       "15922  0.527795  0.520616\n",
       "...         ...       ...\n",
       "16967  0.460952  0.231504\n",
       "8031   0.474517  0.443535\n",
       "5714   0.487082  0.487166\n",
       "2770   0.086771  0.087166\n",
       "8119   0.480769  0.264055\n",
       "\n",
       "[3468 rows x 2 columns]"
      ]
     },
     "execution_count": 16,
     "metadata": {},
     "output_type": "execute_result"
    }
   ],
   "source": [
    "forest_pred = forest_model.predict(x_test)\n",
    "pd.DataFrame({'y_test':y_test,'y_pred':forest_pred})"
   ]
  },
  {
   "cell_type": "code",
   "execution_count": 17,
   "id": "8f69b66f",
   "metadata": {
    "execution": {
     "iopub.execute_input": "2023-03-08T06:20:29.234502Z",
     "iopub.status.busy": "2023-03-08T06:20:29.232872Z",
     "iopub.status.idle": "2023-03-08T06:20:29.410449Z",
     "shell.execute_reply": "2023-03-08T06:20:29.408670Z"
    },
    "papermill": {
     "duration": 0.192566,
     "end_time": "2023-03-08T06:20:29.413345",
     "exception": false,
     "start_time": "2023-03-08T06:20:29.220779",
     "status": "completed"
    },
    "tags": []
   },
   "outputs": [
    {
     "name": "stdout",
     "output_type": "stream",
     "text": [
      "95.24958432616218 %\n"
     ]
    }
   ],
   "source": [
    "r2score = forest_model.score(x_test,y_test)\n",
    "print(r2score*100,'%')"
   ]
  },
  {
   "cell_type": "code",
   "execution_count": 18,
   "id": "17a61f47",
   "metadata": {
    "execution": {
     "iopub.execute_input": "2023-03-08T06:20:29.436942Z",
     "iopub.status.busy": "2023-03-08T06:20:29.436491Z",
     "iopub.status.idle": "2023-03-08T06:20:29.442578Z",
     "shell.execute_reply": "2023-03-08T06:20:29.440764Z"
    },
    "papermill": {
     "duration": 0.022682,
     "end_time": "2023-03-08T06:20:29.445976",
     "exception": false,
     "start_time": "2023-03-08T06:20:29.423294",
     "status": "completed"
    },
    "tags": []
   },
   "outputs": [],
   "source": [
    "# cross_val_score(forest_model,x_train,y_train,cv=5,scoring = 'neg_mean_squared_error')\n"
   ]
  },
  {
   "cell_type": "markdown",
   "id": "33715baf",
   "metadata": {
    "papermill": {
     "duration": 0.009625,
     "end_time": "2023-03-08T06:20:29.466292",
     "exception": false,
     "start_time": "2023-03-08T06:20:29.456667",
     "status": "completed"
    },
    "tags": []
   },
   "source": [
    "***XGBoost***"
   ]
  },
  {
   "cell_type": "code",
   "execution_count": 19,
   "id": "84232092",
   "metadata": {
    "execution": {
     "iopub.execute_input": "2023-03-08T06:20:29.490670Z",
     "iopub.status.busy": "2023-03-08T06:20:29.489806Z",
     "iopub.status.idle": "2023-03-08T06:20:47.946068Z",
     "shell.execute_reply": "2023-03-08T06:20:47.944960Z"
    },
    "papermill": {
     "duration": 18.471576,
     "end_time": "2023-03-08T06:20:47.949172",
     "exception": false,
     "start_time": "2023-03-08T06:20:29.477596",
     "status": "completed"
    },
    "tags": []
   },
   "outputs": [
    {
     "data": {
      "text/plain": [
       "XGBRegressor(base_score=0.5, booster='gbtree', callbacks=None,\n",
       "             colsample_bylevel=1, colsample_bynode=1, colsample_bytree=1,\n",
       "             early_stopping_rounds=None, enable_categorical=False,\n",
       "             eval_metric=None, gamma=0, gpu_id=-1, grow_policy='depthwise',\n",
       "             importance_type=None, interaction_constraints='',\n",
       "             learning_rate=0.300000012, max_bin=256, max_cat_to_onehot=4,\n",
       "             max_delta_step=0, max_depth=6, max_leaves=0, min_child_weight=1,\n",
       "             missing=nan, monotone_constraints='()', n_estimators=100, n_jobs=0,\n",
       "             num_parallel_tree=1, predictor='auto', random_state=0, reg_alpha=0,\n",
       "             reg_lambda=1, ...)"
      ]
     },
     "execution_count": 19,
     "metadata": {},
     "output_type": "execute_result"
    }
   ],
   "source": [
    "from xgboost import XGBRegressor\n",
    "xg_model = XGBRegressor()\n",
    "xg_model.fit(x_train,y_train)"
   ]
  },
  {
   "cell_type": "code",
   "execution_count": 20,
   "id": "d38c57fd",
   "metadata": {
    "execution": {
     "iopub.execute_input": "2023-03-08T06:20:47.971679Z",
     "iopub.status.busy": "2023-03-08T06:20:47.970908Z",
     "iopub.status.idle": "2023-03-08T06:20:48.005600Z",
     "shell.execute_reply": "2023-03-08T06:20:48.004552Z"
    },
    "papermill": {
     "duration": 0.049054,
     "end_time": "2023-03-08T06:20:48.008452",
     "exception": false,
     "start_time": "2023-03-08T06:20:47.959398",
     "status": "completed"
    },
    "tags": []
   },
   "outputs": [
    {
     "data": {
      "text/html": [
       "<div>\n",
       "<style scoped>\n",
       "    .dataframe tbody tr th:only-of-type {\n",
       "        vertical-align: middle;\n",
       "    }\n",
       "\n",
       "    .dataframe tbody tr th {\n",
       "        vertical-align: top;\n",
       "    }\n",
       "\n",
       "    .dataframe thead th {\n",
       "        text-align: right;\n",
       "    }\n",
       "</style>\n",
       "<table border=\"1\" class=\"dataframe\">\n",
       "  <thead>\n",
       "    <tr style=\"text-align: right;\">\n",
       "      <th></th>\n",
       "      <th>y_test</th>\n",
       "      <th>Y_pred</th>\n",
       "    </tr>\n",
       "  </thead>\n",
       "  <tbody>\n",
       "    <tr>\n",
       "      <th>9941</th>\n",
       "      <td>0.776602</td>\n",
       "      <td>0.783919</td>\n",
       "    </tr>\n",
       "    <tr>\n",
       "      <th>721</th>\n",
       "      <td>0.703690</td>\n",
       "      <td>0.723848</td>\n",
       "    </tr>\n",
       "    <tr>\n",
       "      <th>13668</th>\n",
       "      <td>0.078070</td>\n",
       "      <td>0.078994</td>\n",
       "    </tr>\n",
       "    <tr>\n",
       "      <th>3193</th>\n",
       "      <td>0.082716</td>\n",
       "      <td>0.022834</td>\n",
       "    </tr>\n",
       "    <tr>\n",
       "      <th>15922</th>\n",
       "      <td>0.527795</td>\n",
       "      <td>0.562878</td>\n",
       "    </tr>\n",
       "    <tr>\n",
       "      <th>...</th>\n",
       "      <td>...</td>\n",
       "      <td>...</td>\n",
       "    </tr>\n",
       "    <tr>\n",
       "      <th>16967</th>\n",
       "      <td>0.460952</td>\n",
       "      <td>0.311951</td>\n",
       "    </tr>\n",
       "    <tr>\n",
       "      <th>8031</th>\n",
       "      <td>0.474517</td>\n",
       "      <td>0.491611</td>\n",
       "    </tr>\n",
       "    <tr>\n",
       "      <th>5714</th>\n",
       "      <td>0.487082</td>\n",
       "      <td>0.497419</td>\n",
       "    </tr>\n",
       "    <tr>\n",
       "      <th>2770</th>\n",
       "      <td>0.086771</td>\n",
       "      <td>0.072498</td>\n",
       "    </tr>\n",
       "    <tr>\n",
       "      <th>8119</th>\n",
       "      <td>0.480769</td>\n",
       "      <td>0.393619</td>\n",
       "    </tr>\n",
       "  </tbody>\n",
       "</table>\n",
       "<p>3468 rows × 2 columns</p>\n",
       "</div>"
      ],
      "text/plain": [
       "         y_test    Y_pred\n",
       "9941   0.776602  0.783919\n",
       "721    0.703690  0.723848\n",
       "13668  0.078070  0.078994\n",
       "3193   0.082716  0.022834\n",
       "15922  0.527795  0.562878\n",
       "...         ...       ...\n",
       "16967  0.460952  0.311951\n",
       "8031   0.474517  0.491611\n",
       "5714   0.487082  0.497419\n",
       "2770   0.086771  0.072498\n",
       "8119   0.480769  0.393619\n",
       "\n",
       "[3468 rows x 2 columns]"
      ]
     },
     "execution_count": 20,
     "metadata": {},
     "output_type": "execute_result"
    }
   ],
   "source": [
    "xg_pred = xg_model.predict(x_test)\n",
    "pd.DataFrame({'y_test': y_test,'Y_pred': xg_pred})"
   ]
  },
  {
   "cell_type": "code",
   "execution_count": 21,
   "id": "70beeba2",
   "metadata": {
    "execution": {
     "iopub.execute_input": "2023-03-08T06:20:48.030043Z",
     "iopub.status.busy": "2023-03-08T06:20:48.029616Z",
     "iopub.status.idle": "2023-03-08T06:20:48.054264Z",
     "shell.execute_reply": "2023-03-08T06:20:48.053186Z"
    },
    "papermill": {
     "duration": 0.039326,
     "end_time": "2023-03-08T06:20:48.057619",
     "exception": false,
     "start_time": "2023-03-08T06:20:48.018293",
     "status": "completed"
    },
    "tags": []
   },
   "outputs": [
    {
     "name": "stdout",
     "output_type": "stream",
     "text": [
      "96.05612174935698 %\n"
     ]
    }
   ],
   "source": [
    "r2score = xg_model.score(x_test,y_test)\n",
    "print(r2score*100,'%')"
   ]
  },
  {
   "cell_type": "markdown",
   "id": "f9b4feef",
   "metadata": {
    "papermill": {
     "duration": 0.009741,
     "end_time": "2023-03-08T06:20:48.078567",
     "exception": false,
     "start_time": "2023-03-08T06:20:48.068826",
     "status": "completed"
    },
    "tags": []
   },
   "source": [
    "The maximum percentage of accuracy would be 96.2% in Cross Validations"
   ]
  },
  {
   "cell_type": "code",
   "execution_count": 22,
   "id": "d1932f3a",
   "metadata": {
    "execution": {
     "iopub.execute_input": "2023-03-08T06:20:48.103958Z",
     "iopub.status.busy": "2023-03-08T06:20:48.102312Z",
     "iopub.status.idle": "2023-03-08T06:23:33.937455Z",
     "shell.execute_reply": "2023-03-08T06:23:33.936067Z"
    },
    "papermill": {
     "duration": 165.85158,
     "end_time": "2023-03-08T06:23:33.941558",
     "exception": false,
     "start_time": "2023-03-08T06:20:48.089978",
     "status": "completed"
    },
    "tags": []
   },
   "outputs": [
    {
     "data": {
      "text/plain": [
       "array([0.96291695, 0.9562716 , 0.94457807, 0.94915887, 0.95472238,\n",
       "       0.95778569, 0.9561688 , 0.95594381, 0.96154955, 0.95956902])"
      ]
     },
     "execution_count": 22,
     "metadata": {},
     "output_type": "execute_result"
    }
   ],
   "source": [
    "cross_val_score(xg_model,x_train,y_train,cv=10)"
   ]
  },
  {
   "cell_type": "code",
   "execution_count": null,
   "id": "5bc004b2",
   "metadata": {
    "papermill": {
     "duration": 0.009269,
     "end_time": "2023-03-08T06:23:33.960434",
     "exception": false,
     "start_time": "2023-03-08T06:23:33.951165",
     "status": "completed"
    },
    "tags": []
   },
   "outputs": [],
   "source": []
  }
 ],
 "metadata": {
  "kernelspec": {
   "display_name": "Python 3",
   "language": "python",
   "name": "python3"
  },
  "language_info": {
   "codemirror_mode": {
    "name": "ipython",
    "version": 3
   },
   "file_extension": ".py",
   "mimetype": "text/x-python",
   "name": "python",
   "nbconvert_exporter": "python",
   "pygments_lexer": "ipython3",
   "version": "3.7.12"
  },
  "papermill": {
   "default_parameters": {},
   "duration": 403.537859,
   "end_time": "2023-03-08T06:23:34.694828",
   "environment_variables": {},
   "exception": null,
   "input_path": "__notebook__.ipynb",
   "output_path": "__notebook__.ipynb",
   "parameters": {},
   "start_time": "2023-03-08T06:16:51.156969",
   "version": "2.4.0"
  }
 },
 "nbformat": 4,
 "nbformat_minor": 5
}
